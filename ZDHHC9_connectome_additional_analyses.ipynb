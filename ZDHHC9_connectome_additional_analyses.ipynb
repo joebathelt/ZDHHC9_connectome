{
 "cells": [
  {
   "cell_type": "code",
   "execution_count": 1,
   "metadata": {
    "collapsed": false
   },
   "outputs": [
    {
     "name": "stdout",
     "output_type": "stream",
     "text": [
      "Populating the interactive namespace from numpy and matplotlib\n"
     ]
    }
   ],
   "source": [
    "%pylab inline"
   ]
  },
  {
   "cell_type": "code",
   "execution_count": 2,
   "metadata": {
    "collapsed": false
   },
   "outputs": [
    {
     "name": "stderr",
     "output_type": "stream",
     "text": [
      "/imaging/local/software/anaconda/2.4.1/2/lib/python2.7/site-packages/matplotlib/__init__.py:872: UserWarning: axes.color_cycle is deprecated and replaced with axes.prop_cycle; please use the latter.\n",
      "  warnings.warn(self.msg_depr % (key, alt_key))\n"
     ]
    }
   ],
   "source": [
    "import bct\n",
    "import numpy as np\n",
    "import os\n",
    "import pandas as pd\n",
    "import re\n",
    "from scipy.stats import wilcoxon\n",
    "import seaborn as sns"
   ]
  },
  {
   "cell_type": "code",
   "execution_count": 3,
   "metadata": {
    "collapsed": true
   },
   "outputs": [],
   "source": [
    "from matplotlib import rcParams  \n",
    "rcParams['font.family'] = 'serif'  \n",
    "rcParams['font.serif'] = ['Computer Modern Unicode']  \n",
    "rcParams['text.usetex'] = True  \n",
    "rcParams['axes.labelsize'] = 9  \n",
    "rcParams['xtick.labelsize'] = 9  \n",
    "rcParams['ytick.labelsize'] = 9  \n",
    "rcParams['legend.fontsize'] = 9  \n",
    "mm2inches = 0.039371\n",
    "single_column = 86*mm2inches\n",
    "double_column = 180*mm2inches"
   ]
  },
  {
   "cell_type": "code",
   "execution_count": 4,
   "metadata": {
    "collapsed": true
   },
   "outputs": [],
   "source": [
    "sns.set_style(\"whitegrid\")\n",
    "sns.set_style({'axes.grid': False,\n",
    "               'font.family': [u'serif'],\n",
    "               'font.sans-serif': [u'Computer Modern Unicode'],})"
   ]
  },
  {
   "cell_type": "code",
   "execution_count": 744,
   "metadata": {
    "collapsed": false
   },
   "outputs": [],
   "source": [
    "def plot_adjacency_matrix(network):\n",
    "    import matplotlib.pyplot as plt\n",
    "    from mpl_toolkits.axes_grid1 import make_axes_locatable\n",
    "    plt.figure(figsize=(double_column/3, double_column/3), dpi=300)\n",
    "    im = plt.imshow(network, \n",
    "               cmap='jet',\n",
    "               interpolation='none',\n",
    "               vmin=0)\n",
    "    ax = plt.gca()\n",
    "    ax.grid('off')\n",
    "    divider = make_axes_locatable(ax)\n",
    "    cax = divider.append_axes(\"right\", size=\"5%\", pad=0.05)\n",
    "    cb = plt.colorbar(im, cax=cax)\n",
    "    cb.ax.yaxis.set_label_position('right')\n",
    "    plt.tight_layout(pad=0, w_pad=1, h_pad=0)"
   ]
  },
  {
   "cell_type": "code",
   "execution_count": null,
   "metadata": {
    "collapsed": true
   },
   "outputs": [],
   "source": [
    "def bootstrap(data, num_samples, statistic, alpha):\n",
    "    import numpy.random as npr\n",
    "    \n",
    "    n = len(data)\n",
    "    idx = npr.randint(0, n, (num_samples, n))\n",
    "    samples = data[idx]\n",
    "    stat = np.sort(statistic(samples, 1))\n",
    "    return (stat[int((alpha/2.0)*num_samples)],\n",
    "            stat[int((1-alpha/2.0)*num_samples)])"
   ]
  },
  {
   "cell_type": "code",
   "execution_count": 7,
   "metadata": {
    "collapsed": true
   },
   "outputs": [],
   "source": [
    "folder = '/imaging/jb07/ZDHHC9/connectome_revisions/connectome/'"
   ]
  },
  {
   "cell_type": "code",
   "execution_count": 8,
   "metadata": {
    "collapsed": false
   },
   "outputs": [],
   "source": [
    "subject_list = sorted([subject.split('_')[-1] for subject in os.listdir(folder) if re.search('subject', subject)])"
   ]
  },
  {
   "cell_type": "code",
   "execution_count": 9,
   "metadata": {
    "collapsed": true
   },
   "outputs": [],
   "source": [
    "def load_data(folder, model, threshold, weight, subject): \n",
    "    import numpy as np\n",
    "    \n",
    "    matrix = folder + '_subject_id_' + subject + '/_model_' + model + '/_threshold_' + threshold + '/calc_matrix/mapflow/_calc_matrix0/' + subject + '_dwi_' + model + '_' + threshold + '_matrix' + weight + '.txt'\n",
    "    matrix = np.loadtxt(matrix)\n",
    "    \n",
    "    return matrix"
   ]
  },
  {
   "cell_type": "markdown",
   "metadata": {},
   "source": [
    "## Plotting different matrix weights"
   ]
  },
  {
   "cell_type": "code",
   "execution_count": 754,
   "metadata": {
    "collapsed": false
   },
   "outputs": [],
   "source": [
    "networks = np.rollaxis(np.asarray([load_data(folder, 'CSD', str(0), '', subject) for subject in subject_list]), 0, 3)\n",
    "networks = np.asarray([bct.binarize(bct.threshold_proportional(network, 0.1)) for network in networks])\n",
    "control_network = np.mean(networks[..., 0:7], axis=2)\n",
    "ZDHHC9_network = np.mean(networks[..., 7:], axis=2)"
   ]
  },
  {
   "cell_type": "code",
   "execution_count": 755,
   "metadata": {
    "collapsed": false
   },
   "outputs": [
    {
     "data": {
      "image/png": "[encoded data removed]",
      "text/plain": [
       "<matplotlib.figure.Figure at 0x7f94627929d0>"
      ]
     },
     "metadata": {},
     "output_type": "display_data"
    },
    {
     "data": {
      "image/png": "[encoded data removed]",
      "text/plain": [
       "<matplotlib.figure.Figure at 0x7f94698474d0>"
      ]
     },
     "metadata": {},
     "output_type": "display_data"
    }
   ],
   "source": [
    "plot_adjacency_matrix(control_network)\n",
    "plot_adjacency_matrix(ZDHHC9_network)"
   ]
  },
  {
   "cell_type": "markdown",
   "metadata": {},
   "source": [
    "# Group differences using different defintions of edge weight"
   ]
  },
  {
   "cell_type": "markdown",
   "metadata": {},
   "source": [
    "## 1. Streamline density"
   ]
  },
  {
   "cell_type": "markdown",
   "metadata": {},
   "source": [
    "### 1.1 Streamline density with proportional thresholding"
   ]
  },
  {
   "cell_type": "markdown",
   "metadata": {},
   "source": [
    "Streamline densities are absolute counts. These need to be thresholded to create binary graphs so that the graph metrics can be calculated. The binarization threshold may significantly influence the results. Therefore, a range of thresholds is tested. Further, thresholding may be proportional or to an absolute value. The proportional value conserves the overall density of the graph, but may level differences between cases and controls. In order to establish how robust differences are, both strategies are implemented and compared. "
   ]
  },
  {
   "cell_type": "code",
   "execution_count": 13,
   "metadata": {
    "collapsed": true
   },
   "outputs": [],
   "source": [
    "def bootstrap(data, num_samples, statistic, alpha):\n",
    "    import numpy.random as npr\n",
    "    \n",
    "    n = len(data)\n",
    "    idx = npr.randint(0, n, (num_samples, n))\n",
    "    samples = data[idx]\n",
    "    stat = np.sort(statistic(samples, 1))\n",
    "    return (stat[int((alpha/2.0)*num_samples)],\n",
    "            stat[int((1-alpha/2.0)*num_samples)])"
   ]
  },
  {
   "cell_type": "code",
   "execution_count": 761,
   "metadata": {
    "collapsed": true
   },
   "outputs": [],
   "source": [
    "df = pd.DataFrame()"
   ]
  },
  {
   "cell_type": "code",
   "execution_count": null,
   "metadata": {
    "collapsed": true
   },
   "outputs": [],
   "source": [
    "def get_"
   ]
  },
  {
   "cell_type": "code",
   "execution_count": 762,
   "metadata": {
    "collapsed": false
   },
   "outputs": [],
   "source": [
    "threshold_range = np.arange(0.2, 1., 0.05)\n",
    "\n",
    "for subject in subject_list:\n",
    "    for threshold in threshold_range:\n",
    "        # Loading the data\n",
    "        network = load_data(folder, 'CSD', str(0), '', subject)\n",
    "\n",
    "        # thresholding\n",
    "        network = bct.threshold_proportional(network, threshold)\n",
    "\n",
    "        # binarizing\n",
    "        network[network > 0] = 1\n",
    "\n",
    "        # calculate average clustering\n",
    "        df.set_value(subject, str(threshold), np.mean(bct.clustering_coef_bu(network)))\n",
    "\n",
    "# Adding the group variable\n",
    "df['group'] = np.hstack([np.repeat('control', 7), np.repeat('ZDHHC9', 7)])"
   ]
  },
  {
   "cell_type": "code",
   "execution_count": 763,
   "metadata": {
    "collapsed": false
   },
   "outputs": [],
   "source": [
    "control_median = np.median(df[df['group'] == 'control'].values[:,0:-1], axis=0)\n",
    "control_lowCI = [bootstrap(df[df['group'] == 'control'][str(threshold)], 100, np.mean, 0.05)[0] for threshold in threshold_range]\n",
    "\n",
    "ZDHHC9_median = np.median(df[df['group'] == 'ZDHHC9'].values[:,0:-1], axis=0)\n",
    "ZDHHC9_lowCI = [bootstrap(df[df['group'] == 'ZDHHC9'][str(threshold)], 100, np.mean, 0.05)[0] for threshold in threshold_range]"
   ]
  },
  {
   "cell_type": "code",
   "execution_count": 764,
   "metadata": {
    "collapsed": false
   },
   "outputs": [
    {
     "data": {
      "text/plain": [
       "<matplotlib.text.Text at 0x7f9461dfa550>"
      ]
     },
     "execution_count": 764,
     "metadata": {},
     "output_type": "execute_result"
    },
    {
     "data": {
      "image/png": "[encoded data removed]",
      "text/plain": [
       "<matplotlib.figure.Figure at 0x7f9461cf9910>"
      ]
     },
     "metadata": {},
     "output_type": "display_data"
    }
   ],
   "source": [
    "plt.figure(figsize=(single_column, single_column), dpi=600)\n",
    "\n",
    "control = plt.errorbar(x = threshold_range,\n",
    "             y = control_median,\n",
    "             yerr = control_median - control_lowCI,\n",
    "             marker = 'o',\n",
    "             markersize = 8,\n",
    "             color='#56B4E9',\n",
    "             linewidth=3)\n",
    "\n",
    "ZDHHC9 = plt.errorbar(x = threshold_range,\n",
    "             y = ZDHHC9_median,\n",
    "             yerr = ZDHHC9_median - ZDHHC9_lowCI,\n",
    "             marker = 'D',\n",
    "             markersize = 8,\n",
    "             color='#D55E00',\n",
    "             linewidth=3)\n",
    "\n",
    "plt.legend(['control', r'\\textit{ZDHHC9}'], loc='best')\n",
    "plt.ylabel(r'$C_{G}$')\n",
    "plt.xlabel(r'thresholded density')"
   ]
  },
  {
   "cell_type": "markdown",
   "metadata": {},
   "source": [
    "The graph shows the group median of the average clustering coefficient at each density threshold for the *ZDHHC9* group (orange) and the control group (blue). The error bars show the bootstrapped 95% confidence interval."
   ]
  },
  {
   "cell_type": "markdown",
   "metadata": {},
   "source": [
    "### Comparing the area under the curve between groups\n",
    "In order to get a treshold-free estimate of the average clustering coefficient, the area under the curve for the clustering coefficient across all thresholds is calculated. "
   ]
  },
  {
   "cell_type": "code",
   "execution_count": 765,
   "metadata": {
    "collapsed": false
   },
   "outputs": [],
   "source": [
    "for subject in subject_list: \n",
    "    columns = [col for col in df.columns if col not in ['group', 'area']]\n",
    "    area = np.cumsum(df.loc[[subject]][columns].values)[-1]\n",
    "    df.set_value(subject, 'area', area)"
   ]
  },
  {
   "cell_type": "code",
   "execution_count": 766,
   "metadata": {
    "collapsed": false
   },
   "outputs": [],
   "source": [
    "control_area = df[df['group'] == 'ZDHHC9']['area'].values\n",
    "ZDHHC9_area = df[df['group'] == 'control']['area'].values"
   ]
  },
  {
   "cell_type": "code",
   "execution_count": 767,
   "metadata": {
    "collapsed": false
   },
   "outputs": [
    {
     "data": {
      "text/plain": [
       "WilcoxonResult(statistic=0.0, pvalue=0.017960477526078766)"
      ]
     },
     "execution_count": 767,
     "metadata": {},
     "output_type": "execute_result"
    }
   ],
   "source": [
    "wilcoxon(control_area, ZDHHC9_area)"
   ]
  },
  {
   "cell_type": "markdown",
   "metadata": {},
   "source": [
    "### 1.2. Streamline density differences with absolute thresholding"
   ]
  },
  {
   "cell_type": "code",
   "execution_count": 776,
   "metadata": {
    "collapsed": true
   },
   "outputs": [],
   "source": [
    "df = pd.DataFrame()"
   ]
  },
  {
   "cell_type": "code",
   "execution_count": 777,
   "metadata": {
    "collapsed": false
   },
   "outputs": [],
   "source": [
    "threshold_range = np.arange(0, 500, 25)\n",
    "\n",
    "for subject in subject_list:\n",
    "    for threshold in threshold_range:\n",
    "        # Loading the data\n",
    "        network = load_data(folder, 'CSD', str(0), '', subject)\n",
    "\n",
    "        # thresholding\n",
    "        network = bct.threshold_absolute(network, threshold)\n",
    "\n",
    "        # binarizing\n",
    "        network[network > 0] = 1\n",
    "\n",
    "        # calculate average clustering\n",
    "        df.set_value(subject, str(threshold), np.mean(bct.clustering_coef_bu(network)))\n",
    "\n",
    "# Adding the group variable\n",
    "df['group'] = np.hstack([np.repeat('control', 7), np.repeat('ZDHHC9', 7)])"
   ]
  },
  {
   "cell_type": "code",
   "execution_count": 778,
   "metadata": {
    "collapsed": false,
    "scrolled": true
   },
   "outputs": [],
   "source": [
    "control_median = np.median(df[df['group'] == 'control'].values[:,0:-1], axis=0)\n",
    "control_lowCI = [bootstrap(df[df['group'] == 'control'][str(threshold)], 100, np.mean, 0.05)[0] for threshold in threshold_range]\n",
    "\n",
    "ZDHHC9_median = np.median(df[df['group'] == 'ZDHHC9'].values[:,0:-1], axis=0)\n",
    "ZDHHC9_lowCI = [bootstrap(df[df['group'] == 'ZDHHC9'][str(threshold)], 100, np.mean, 0.05)[0] for threshold in threshold_range]"
   ]
  },
  {
   "cell_type": "code",
   "execution_count": 779,
   "metadata": {
    "collapsed": false
   },
   "outputs": [
    {
     "data": {
      "text/plain": [
       "<matplotlib.text.Text at 0x7f9459dc69d0>"
      ]
     },
     "execution_count": 779,
     "metadata": {},
     "output_type": "execute_result"
    },
    {
     "data": {
      "image/png": "[encoded data removed]",
      "text/plain": [
       "<matplotlib.figure.Figure at 0x7f9459db9d50>"
      ]
     },
     "metadata": {},
     "output_type": "display_data"
    }
   ],
   "source": [
    "plt.figure(figsize=(single_column, single_column), dpi=600)\n",
    "\n",
    "control = plt.errorbar(x = threshold_range,\n",
    "             y = control_median,\n",
    "             yerr = control_median - control_lowCI,\n",
    "             marker = 'o',\n",
    "             markersize = 8,\n",
    "             color='#56B4E9',\n",
    "             linewidth=3)\n",
    "\n",
    "ZDHHC9 = plt.errorbar(x = threshold_range,\n",
    "             y = ZDHHC9_median,\n",
    "             yerr = ZDHHC9_median - ZDHHC9_lowCI,\n",
    "             marker = 'D',\n",
    "             markersize = 8,\n",
    "             color='#D55E00',\n",
    "             linewidth=3)\n",
    "\n",
    "plt.legend(['control', r'\\textit{ZDHHC9}'], loc='best')\n",
    "plt.ylabel(r'$C_{G}$')\n",
    "plt.xlabel(r'$D_{G}$')"
   ]
  },
  {
   "cell_type": "code",
   "execution_count": 780,
   "metadata": {
    "collapsed": true
   },
   "outputs": [],
   "source": [
    "for subject in subject_list: \n",
    "    columns = [col for col in df.columns if col not in ['group', 'area']]\n",
    "    area = np.cumsum(df.loc[[subject]][columns].values)[-1]\n",
    "    df.set_value(subject, 'area', area)"
   ]
  },
  {
   "cell_type": "code",
   "execution_count": 781,
   "metadata": {
    "collapsed": true
   },
   "outputs": [],
   "source": [
    "control_area = df[df['group'] == 'ZDHHC9']['area'].values\n",
    "ZDHHC9_area = df[df['group'] == 'control']['area'].values"
   ]
  },
  {
   "cell_type": "code",
   "execution_count": 782,
   "metadata": {
    "collapsed": false
   },
   "outputs": [
    {
     "data": {
      "text/plain": [
       "WilcoxonResult(statistic=0.0, pvalue=0.017960477526078766)"
      ]
     },
     "execution_count": 782,
     "metadata": {},
     "output_type": "execute_result"
    }
   ],
   "source": [
    "wilcoxon(control_area, ZDHHC9_area)"
   ]
  },
  {
   "cell_type": "markdown",
   "metadata": {},
   "source": [
    "## 2. Streamline density normalized by ROI size"
   ]
  },
  {
   "cell_type": "code",
   "execution_count": 32,
   "metadata": {
    "collapsed": true
   },
   "outputs": [],
   "source": [
    "df = pd.DataFrame()"
   ]
  },
  {
   "cell_type": "code",
   "execution_count": 33,
   "metadata": {
    "collapsed": false
   },
   "outputs": [],
   "source": [
    "threshold_range = np.arange(0,90,10)\n",
    "\n",
    "for subject in subject_list:\n",
    "    for threshold in threshold_range:\n",
    "        # Loading the data\n",
    "        network = load_data(folder, 'CSD', str(threshold), '_ROI_normalized', subject)\n",
    "\n",
    "        # binarizing\n",
    "        network[network > 0] = 1\n",
    "\n",
    "        # calculate average clustering\n",
    "        df.set_value(subject, str(threshold), np.mean(bct.clustering_coef_bu(network)))\n",
    "\n",
    "# Adding the group variable\n",
    "df['group'] = np.hstack([np.repeat('control', 7), np.repeat('ZDHHC9', 7)])"
   ]
  },
  {
   "cell_type": "code",
   "execution_count": 34,
   "metadata": {
    "collapsed": false
   },
   "outputs": [],
   "source": [
    "control_median = np.median(df[df['group'] == 'control'].values[:,0:-1], axis=0)\n",
    "control_lowCI = [bootstrap(df[df['group'] == 'control'][str(threshold)], 100, np.mean, 0.05)[0] for threshold in threshold_range]\n",
    "\n",
    "ZDHHC9_median = np.median(df[df['group'] == 'ZDHHC9'].values[:,0:-1], axis=0)\n",
    "ZDHHC9_lowCI = [bootstrap(df[df['group'] == 'ZDHHC9'][str(threshold)], 100, np.mean, 0.05)[0] for threshold in threshold_range]"
   ]
  },
  {
   "cell_type": "code",
   "execution_count": 35,
   "metadata": {
    "collapsed": false
   },
   "outputs": [
    {
     "data": {
      "text/plain": [
       "<matplotlib.text.Text at 0x7ffc7c778890>"
      ]
     },
     "execution_count": 35,
     "metadata": {},
     "output_type": "execute_result"
    },
    {
     "data": {
      "image/png": "[encoded data removed]",
      "text/plain": [
       "<matplotlib.figure.Figure at 0x7ffc7c632e50>"
      ]
     },
     "metadata": {},
     "output_type": "display_data"
    }
   ],
   "source": [
    "plt.figure(figsize=(single_column, single_column), dpi=600)\n",
    "\n",
    "control = plt.errorbar(x = threshold_range,\n",
    "             y = control_median,\n",
    "             yerr = control_median - control_lowCI,\n",
    "             marker = 'o',\n",
    "             markersize = 8,\n",
    "             color='#56B4E9',\n",
    "             linewidth=3)\n",
    "\n",
    "ZDHHC9 = plt.errorbar(x = threshold_range,\n",
    "             y = ZDHHC9_median,\n",
    "             yerr = ZDHHC9_median - ZDHHC9_lowCI,\n",
    "             marker = 'D',\n",
    "             markersize = 8,\n",
    "             color='#D55E00',\n",
    "             linewidth=3)\n",
    "\n",
    "plt.legend(['control', r'\\textit{ZDHHC9}'], loc='best')\n",
    "plt.ylabel(r'$C_{G}$')\n",
    "plt.xlabel(r'$D_{G}$')"
   ]
  },
  {
   "cell_type": "code",
   "execution_count": 36,
   "metadata": {
    "collapsed": true
   },
   "outputs": [],
   "source": [
    "for subject in subject_list: \n",
    "    columns = [col for col in df.columns if col not in ['group', 'area']]\n",
    "    area = np.cumsum(df.loc[[subject]][columns].values)[-1]\n",
    "    df.set_value(subject, 'area', area)"
   ]
  },
  {
   "cell_type": "code",
   "execution_count": 37,
   "metadata": {
    "collapsed": true
   },
   "outputs": [],
   "source": [
    "control_area = df[df['group'] == 'ZDHHC9']['area'].values\n",
    "ZDHHC9_area = df[df['group'] == 'control']['area'].values"
   ]
  },
  {
   "cell_type": "code",
   "execution_count": 38,
   "metadata": {
    "collapsed": false
   },
   "outputs": [
    {
     "data": {
      "text/plain": [
       "WilcoxonResult(statistic=7.0, pvalue=0.23672357063785732)"
      ]
     },
     "execution_count": 38,
     "metadata": {},
     "output_type": "execute_result"
    }
   ],
   "source": [
    "wilcoxon(control_area, ZDHHC9_area)"
   ]
  },
  {
   "cell_type": "markdown",
   "metadata": {},
   "source": [
    "## 3. Streamline density normalized "
   ]
  },
  {
   "cell_type": "code",
   "execution_count": 39,
   "metadata": {
    "collapsed": true
   },
   "outputs": [],
   "source": [
    "df = pd.DataFrame()"
   ]
  },
  {
   "cell_type": "code",
   "execution_count": 40,
   "metadata": {
    "collapsed": true
   },
   "outputs": [],
   "source": [
    "threshold_range = np.arange(0,90,10)\n",
    "\n",
    "for subject in subject_list:\n",
    "    for threshold in threshold_range:\n",
    "        # Loading the data\n",
    "        network = load_data(folder, 'CSD', str(threshold), '_length_normalized', subject)\n",
    "\n",
    "        # binarizing\n",
    "        network[network > 0] = 1\n",
    "\n",
    "        # calculate average clustering\n",
    "        df.set_value(subject, str(threshold), np.mean(bct.clustering_coef_bu(network)))\n",
    "\n",
    "# Adding the group variable\n",
    "df['group'] = np.hstack([np.repeat('control', 7), np.repeat('ZDHHC9', 7)])"
   ]
  },
  {
   "cell_type": "code",
   "execution_count": 41,
   "metadata": {
    "collapsed": false
   },
   "outputs": [
    {
     "data": {
      "text/plain": [
       "<matplotlib.text.Text at 0x7ffc7b6a5610>"
      ]
     },
     "execution_count": 41,
     "metadata": {},
     "output_type": "execute_result"
    },
    {
     "data": {
      "image/png": "[encoded data removed]",
      "text/plain": [
       "<matplotlib.figure.Figure at 0x7ffc7c3b1390>"
      ]
     },
     "metadata": {},
     "output_type": "display_data"
    }
   ],
   "source": [
    "plt.figure(figsize=(single_column, single_column), dpi=600)\n",
    "\n",
    "control = plt.errorbar(x = threshold_range,\n",
    "             y = control_median,\n",
    "             yerr = control_median - control_lowCI,\n",
    "             marker = 'o',\n",
    "             markersize = 8,\n",
    "             color='#56B4E9',\n",
    "             linewidth=3)\n",
    "\n",
    "ZDHHC9 = plt.errorbar(x = threshold_range,\n",
    "             y = ZDHHC9_median,\n",
    "             yerr = ZDHHC9_median - ZDHHC9_lowCI,\n",
    "             marker = 'D',\n",
    "             markersize = 8,\n",
    "             color='#D55E00',\n",
    "             linewidth=3)\n",
    "\n",
    "plt.legend(['control', r'\\textit{ZDHHC9}'], loc='best')\n",
    "plt.ylabel(r'$C_{G}$')\n",
    "plt.xlabel(r'$D_{G}$')"
   ]
  },
  {
   "cell_type": "code",
   "execution_count": 42,
   "metadata": {
    "collapsed": true
   },
   "outputs": [],
   "source": [
    "for subject in subject_list: \n",
    "    columns = [col for col in df.columns if col not in ['group', 'area']]\n",
    "    area = np.cumsum(df.loc[[subject]][columns].values)[-1]\n",
    "    df.set_value(subject, 'area', area)"
   ]
  },
  {
   "cell_type": "code",
   "execution_count": 43,
   "metadata": {
    "collapsed": true
   },
   "outputs": [],
   "source": [
    "control_area = df[df['group'] == 'ZDHHC9']['area'].values\n",
    "ZDHHC9_area = df[df['group'] == 'control']['area'].values"
   ]
  },
  {
   "cell_type": "code",
   "execution_count": 44,
   "metadata": {
    "collapsed": false
   },
   "outputs": [
    {
     "data": {
      "text/plain": [
       "WilcoxonResult(statistic=0.0, pvalue=0.017960477526078766)"
      ]
     },
     "execution_count": 44,
     "metadata": {},
     "output_type": "execute_result"
    }
   ],
   "source": [
    "wilcoxon(control_area, ZDHHC9_area)"
   ]
  },
  {
   "cell_type": "markdown",
   "metadata": {},
   "source": [
    "## 4. Weighted by Generalized FA"
   ]
  },
  {
   "cell_type": "code",
   "execution_count": null,
   "metadata": {
    "collapsed": true
   },
   "outputs": [],
   "source": []
  }
 ],
 "metadata": {
  "kernelspec": {
   "display_name": "Python 2",
   "language": "python",
   "name": "python2"
  },
  "language_info": {
   "codemirror_mode": {
    "name": "ipython",
    "version": 2
   },
   "file_extension": ".py",
   "mimetype": "text/x-python",
   "name": "python",
   "nbconvert_exporter": "python",
   "pygments_lexer": "ipython2",
   "version": "2.7.12"
  }
 },
 "nbformat": 4,
 "nbformat_minor": 0
}
