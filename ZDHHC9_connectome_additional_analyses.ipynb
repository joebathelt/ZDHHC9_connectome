{
 "cells": [
  {
   "cell_type": "code",
   "execution_count": 12,
   "metadata": {
    "collapsed": false
   },
   "outputs": [
    {
     "name": "stdout",
     "output_type": "stream",
     "text": [
      "Populating the interactive namespace from numpy and matplotlib\n"
     ]
    }
   ],
   "source": [
    "%pylab inline"
   ]
  },
  {
   "cell_type": "code",
   "execution_count": 69,
   "metadata": {
    "collapsed": false
   },
   "outputs": [],
   "source": [
    "import bct\n",
    "from medpy.metric.image import mutual_information\n",
    "import numpy as np\n",
    "import os\n",
    "import pandas as pd\n",
    "import re\n",
    "from scipy.stats import wilcoxon, ttest_rel, sem\n",
    "import seaborn as sns\n",
    "from statsmodels import robust"
   ]
  },
  {
   "cell_type": "code",
   "execution_count": 3,
   "metadata": {
    "collapsed": true
   },
   "outputs": [],
   "source": [
    "from matplotlib import rcParams  \n",
    "rcParams['font.family'] = 'serif'  \n",
    "rcParams['font.serif'] = ['Computer Modern Unicode']  \n",
    "rcParams['text.usetex'] = True  \n",
    "rcParams['axes.labelsize'] = 9  \n",
    "rcParams['xtick.labelsize'] = 9  \n",
    "rcParams['ytick.labelsize'] = 9  \n",
    "rcParams['legend.fontsize'] = 9  \n",
    "rcParams['figure.autolayout'] = True\n",
    "mm2inches = 0.039371\n",
    "single_column = 86*mm2inches\n",
    "double_column = 180*mm2inches"
   ]
  },
  {
   "cell_type": "code",
   "execution_count": 4,
   "metadata": {
    "collapsed": true
   },
   "outputs": [],
   "source": [
    "sns.set_style(\"whitegrid\")\n",
    "sns.set_style({'axes.grid': False,\n",
    "               'font.family': [u'serif'],\n",
    "               'font.sans-serif': [u'Computer Modern Unicode'],})"
   ]
  },
  {
   "cell_type": "code",
   "execution_count": 5,
   "metadata": {
    "collapsed": true
   },
   "outputs": [],
   "source": [
    "outfolder = '/imaging/jb07/ZDHHC9/connectome_revisions/figures/'"
   ]
  },
  {
   "cell_type": "code",
   "execution_count": 46,
   "metadata": {
    "collapsed": false
   },
   "outputs": [],
   "source": [
    "def plot_adjacency_matrix(network, filename, ticks, title):\n",
    "    import matplotlib.pyplot as plt\n",
    "    from mpl_toolkits.axes_grid1 import make_axes_locatable\n",
    "    rcParams['xtick.labelsize'] = 6 \n",
    "    rcParams['ytick.labelsize'] = 6  \n",
    "\n",
    "    ## Loading labels\n",
    "    labels = pd.read_csv('/home/jb07/joe_python/GitHub/ZDHHC9_connectome/DK_labels.txt', header=None)[0].values\n",
    "\n",
    "    plt.figure(figsize=(double_column/2, double_column/2), dpi=600)\n",
    "    im = plt.imshow(network, \n",
    "               cmap='afmhot',\n",
    "               interpolation='none',\n",
    "               vmin=0,\n",
    "               vmax=1)\n",
    "    \n",
    "    if ticks == True:\n",
    "        ax = plt.gca()\n",
    "        ax.set_yticks(np.arange(0,network.shape[0]))\n",
    "        ax.set_yticklabels(labels)\n",
    "        ax.yaxis.tick_right()\n",
    "        ax.set_xticks(np.arange(0,network.shape[0]))\n",
    "        ax.set_xticklabels(labels, rotation=90)\n",
    "        ax.grid('off')\n",
    "        rcParams['xtick.labelsize'] = 9\n",
    "        rcParams['ytick.labelsize'] = 9  \n",
    "    else: \n",
    "        plt.tick_params(axis='both',          \n",
    "                        which='both',      \n",
    "                        bottom='off', \n",
    "                        left='off',\n",
    "                        right='off',\n",
    "                        top='off',  \n",
    "                        labelleft='off',\n",
    "                        labelbottom='off')\n",
    "        \n",
    "    #divider = make_axes_locatable(ax)\n",
    "    #cax = divider.append_axes(\"right\", size=\"5%\", pad=0.05)\n",
    "    #cb = plt.colorbar(im, cax=cax)\n",
    "    #cb.ax.yaxis.set_label_position('right')\n",
    "    if title:\n",
    "        plt.title(title)\n",
    "    plt.tight_layout(pad=0, w_pad=1, h_pad=0)\n",
    "    plt.savefig(filename, dpi=600)\n",
    "    plt.show()"
   ]
  },
  {
   "cell_type": "code",
   "execution_count": 115,
   "metadata": {
    "collapsed": true
   },
   "outputs": [],
   "source": [
    "def load_data(folder, model, threshold, weight, subject): \n",
    "    import numpy as np\n",
    "    \n",
    "    matrix = folder + '_subject_id_' + subject + '/_model_' + model + '/_threshold_' + threshold + '/calc_matrix/mapflow/_calc_matrix0/' + subject + '_dwi_' + model + '_' + threshold + '_matrix' + weight + '.txt'\n",
    "    matrix = np.loadtxt(matrix)\n",
    "    \n",
    "    return matrix"
   ]
  },
  {
   "cell_type": "code",
   "execution_count": 20,
   "metadata": {
    "collapsed": true
   },
   "outputs": [],
   "source": [
    "folder = '/imaging/jb07/ZDHHC9/connectome_revisions/connectome/'"
   ]
  },
  {
   "cell_type": "code",
   "execution_count": 21,
   "metadata": {
    "collapsed": true
   },
   "outputs": [],
   "source": [
    "subject_list = sorted([subject.split('_')[-1] for subject in os.listdir(folder) if re.search('subject', subject)])"
   ]
  },
  {
   "cell_type": "markdown",
   "metadata": {},
   "source": [
    "# Group differences using different defintions of edge weight"
   ]
  },
  {
   "cell_type": "code",
   "execution_count": 140,
   "metadata": {
    "collapsed": false
   },
   "outputs": [],
   "source": [
    "def calculate_results(subject_list, threshold_range, model, weight, threshold_type, annotation, figure_name):\n",
    "    \n",
    "    d = []\n",
    "\n",
    "    for subject in subject_list:\n",
    "        for threshold in threshold_range:\n",
    "\n",
    "            # Loading the data\n",
    "            network = load_data(folder, model, str(0), weight, subject)\n",
    "\n",
    "            # thresholding\n",
    "            if threshold_type == 'proportional':\n",
    "                network = bct.threshold_proportional(network, threshold)\n",
    "            elif threshold_type == 'absolute':\n",
    "                network = bct.threshold_absolute(network, threshold)\n",
    "\n",
    "            # binarizing\n",
    "            network = bct.binarize(network)\n",
    "\n",
    "            # calculate average clustering\n",
    "            clustering_coefficient = np.mean(bct.clustering_coef_bu(network))\n",
    "            global_efficiency = bct.charpath(bct.distance_bin(network))[1]\n",
    "\n",
    "            # Setting group variable\n",
    "            group = 'ZDHHC9' if re.search('z', subject) else 'control'\n",
    "\n",
    "            d.append({'ID': subject,\n",
    "                      'group': group,\n",
    "                      'threshold': threshold,\n",
    "                      'clustering_coefficient': clustering_coefficient,\n",
    "                      'global_efficiency': global_efficiency})\n",
    "\n",
    "    df = pd.DataFrame(d)\n",
    "    \n",
    "    for measure in ['clustering_coefficient', 'global_efficiency']:\n",
    "        control_area = [np.cumsum(df[df['ID'] == subject][measure].values)[-1] for subject in subject_list if re.search('c', subject)]\n",
    "        ZDHHC9_area = [np.cumsum(df[df['ID'] == subject][measure].values)[-1] for subject in subject_list if re.search('z', subject)]\n",
    "        print measure + '\\n'\n",
    "        print('ZDHHC9 AUC: mean=' + str(round(np.mean(ZDHHC9_area), 2)) +\n",
    "             '; SE=' + str(round(sem(ZDHHC9_area), 3)))\n",
    "        print('ZDHHC9 AUC: median=' + str(round(np.median(ZDHHC9_area), 2)) +\n",
    "             '; mad=' + str(round(robust.mad(ZDHHC9_area), 3)))\n",
    "        print('control AUC: mean=' + str(round(np.mean(control_area), 2)) +\n",
    "             '; SE=' + str(round(sem(control_area), 3)))\n",
    "        print('control AUC: median=' + str(round(np.median(control_area), 2)) +\n",
    "             '; mad=' + str(round(robust.mad(control_area), 3)))\n",
    "        print('Wilcoxon: W=' + \n",
    "        str(ttest_rel(control_area, ZDHHC9_area)[0]) + '; p=' +\n",
    "        str(round(wilcoxon(control_area, ZDHHC9_area)[1], 3)))\n",
    "        print('Paired t-test: t(' + str(len(control_area) -1) + ')=' + \n",
    "        str(round(ttest_rel(control_area, ZDHHC9_area)[0], 2)) + '; p=' +\n",
    "        str(round(ttest_rel(control_area, ZDHHC9_area)[1], 3)) + '\\n')\n",
    "    \n",
    "\n",
    "        table_df = pd.DataFrame([{'ZDHHC9_mean': round(np.mean(ZDHHC9_area), 2),\n",
    "                              'ZDHHC9_SE': round(sem(ZDHHC9_area), 3), \n",
    "                              'control_mean': round(np.mean(control_area), 2),\n",
    "                              'control_SE': round(sem(control_area), 3),\n",
    "                              't': round(ttest_rel(control_area, ZDHHC9_area)[0], 2),\n",
    "                              'p': round(ttest_rel(control_area, ZDHHC9_area)[1], 3)}])\n",
    "        print(table_df[['ZDHHC9_mean', 'ZDHHC9_SE', 'control_mean', 'control_SE', 't', 'p']].to_latex(index=False))\n",
    "        \n",
    "    # Plotting\n",
    "    fig = plt.figure(figsize=(double_column/3, double_column/3), dpi=600)\n",
    "\n",
    "    for measure in ['clustering_coefficient', 'global_efficiency']:\n",
    "        for group in ['control', 'ZDHHC9']:\n",
    "\n",
    "            copy_df = df.copy()\n",
    "            copy_df = copy_df[df['group'] == group]\n",
    "            median = copy_df.groupby('threshold').median()[measure].values\n",
    "            mad = copy_df.groupby('threshold').agg(robust.mad)[measure].values\n",
    "            colour = '#56B4E9' if group == 'control' else '#D55E00'\n",
    "            marker = 'o' if measure == 'clustering_coefficient' else 'D'\n",
    "            linestyle = 'solid' if measure == 'clustering_coefficient' else 'dashed'\n",
    "\n",
    "            plt.errorbar(x = threshold_range,\n",
    "                         y = median,\n",
    "                         yerr = mad,\n",
    "                         marker = marker,\n",
    "                         markersize = 2,\n",
    "                         color=colour,\n",
    "                         linestyle=linestyle,\n",
    "                         linewidth=1)\n",
    "\n",
    "\n",
    "    plt.ylim(ymax = 1, ymin = 0)\n",
    "    #plt.tight_layout(w_pad=4., h_pad=4.)\n",
    "    \n",
    "    if annotation:\n",
    "        plt.legend(['control', r'\\textit{ZDHHC9}'], loc='best')\n",
    "        plt.ylabel(r'$C_{G}$/$L_{G}^-1$')\n",
    "        plt.xlabel(r'thresholded density')\n",
    "        \n",
    "    plt.savefig(figure_name, dpi=300)\n",
    "    plt.show()\n"
   ]
  },
  {
   "cell_type": "markdown",
   "metadata": {},
   "source": [
    "## 1. Streamline density"
   ]
  },
  {
   "cell_type": "markdown",
   "metadata": {},
   "source": [
    "### 1.1 Streamline density with proportional thresholding"
   ]
  },
  {
   "cell_type": "markdown",
   "metadata": {},
   "source": [
    "Streamline densities are absolute counts. These need to be thresholded to create binary graphs so that the graph metrics can be calculated. The binarization threshold may significantly influence the results. Therefore, a range of thresholds is tested. Further, thresholding may be proportional or to an absolute value. The proportional value conserves the overall density of the graph, but may level differences between cases and controls. In order to establish how robust differences are, both strategies are implemented and compared. "
   ]
  },
  {
   "cell_type": "code",
   "execution_count": 141,
   "metadata": {
    "collapsed": false,
    "scrolled": true
   },
   "outputs": [
    {
     "name": "stdout",
     "output_type": "stream",
     "text": [
      "clustering_coefficient\n",
      "\n",
      "ZDHHC9 AUC: mean=11.41; SE=0.051\n",
      "ZDHHC9 AUC: median=11.37; mad=0.152\n",
      "control AUC: mean=11.81; SE=0.03\n",
      "control AUC: median=11.82; mad=0.072\n",
      "Wilcoxon: W=7.34731885805; p=0.018\n",
      "Paired t-test: t(6)=7.35; p=0.0\n",
      "\n",
      "\\begin{tabular}{rrrrrr}\n",
      "\\toprule\n",
      " ZDHHC9\\_mean &  ZDHHC9\\_SE &  control\\_mean &  control\\_SE &     t &  p \\\\\n",
      "\\midrule\n",
      "       11.41 &      0.051 &         11.81 &        0.03 &  7.35 &  0 \\\\\n",
      "\\bottomrule\n",
      "\\end{tabular}\n",
      "\n",
      "global_efficiency\n",
      "\n",
      "ZDHHC9 AUC: mean=11.27; SE=0.052\n",
      "ZDHHC9 AUC: median=11.26; mad=0.102\n",
      "control AUC: mean=11.64; SE=0.03\n",
      "control AUC: median=11.65; mad=0.092\n",
      "Wilcoxon: W=8.24644717602; p=0.018\n",
      "Paired t-test: t(6)=8.25; p=0.0\n",
      "\n",
      "\\begin{tabular}{rrrrrr}\n",
      "\\toprule\n",
      " ZDHHC9\\_mean &  ZDHHC9\\_SE &  control\\_mean &  control\\_SE &     t &  p \\\\\n",
      "\\midrule\n",
      "       11.27 &      0.052 &         11.64 &        0.03 &  8.25 &  0 \\\\\n",
      "\\bottomrule\n",
      "\\end{tabular}\n",
      "\n"
     ]
    },
    {
     "data": {
      "image/png": "[encoded data removed]",
      "text/plain": [
       "<matplotlib.figure.Figure at 0x7f88e442c510>"
      ]
     },
     "metadata": {},
     "output_type": "display_data"
    }
   ],
   "source": [
    "threshold_range = np.arange(0.2, 1., 0.05)\n",
    "calculate_results(subject_list, threshold_range, 'CSD', '', 'proportional', False, outfolder + 'streamline_density_proportional.png')"
   ]
  },
  {
   "cell_type": "markdown",
   "metadata": {},
   "source": [
    "The graph shows the group median of the average clustering coefficient at each density threshold for the *ZDHHC9* group (orange) and the control group (blue). The error bars show the bootstrapped 95% confidence interval."
   ]
  },
  {
   "cell_type": "markdown",
   "metadata": {},
   "source": [
    "### 1.2. Streamline density differences with absolute thresholding"
   ]
  },
  {
   "cell_type": "code",
   "execution_count": 118,
   "metadata": {
    "collapsed": false
   },
   "outputs": [
    {
     "name": "stdout",
     "output_type": "stream",
     "text": [
      "clustering_coefficient\n",
      "\n",
      "ZDHHC9 AUC: mean=2.85; SE=0.12\n",
      "ZDHHC9 AUC: median=2.83; mad=0.257\n",
      "control AUC: mean=3.4; SE=0.13\n",
      "control AUC: median=3.48; mad=0.178\n",
      "Wilcoxon: W=3.07225812938; p=0.018\n",
      "Paired t-test: t(6)=3.07; p=0.022\n",
      "\n",
      "global_efficiency\n",
      "\n",
      "ZDHHC9 AUC: mean=1.78; SE=0.072\n",
      "ZDHHC9 AUC: median=1.73; mad=0.124\n",
      "control AUC: mean=2.07; SE=0.066\n",
      "control AUC: median=2.08; mad=0.184\n",
      "Wilcoxon: W=4.11486012569; p=0.018\n",
      "Paired t-test: t(6)=4.11; p=0.006\n",
      "\n"
     ]
    },
    {
     "data": {
      "image/png": "[encoded data removed]",
      "text/plain": [
       "<matplotlib.figure.Figure at 0x7f88e3eced10>"
      ]
     },
     "metadata": {},
     "output_type": "display_data"
    }
   ],
   "source": [
    "threshold_range = np.arange(0, 500, 25)\n",
    "df = calculate_results(subject_list, threshold_range, 'CSD', '', 'absolute', False, outfolder + 'streamline_density_absolute.png')"
   ]
  },
  {
   "cell_type": "markdown",
   "metadata": {},
   "source": [
    "## 2. Streamline density normalized by ROI size"
   ]
  },
  {
   "cell_type": "code",
   "execution_count": 142,
   "metadata": {
    "collapsed": false
   },
   "outputs": [
    {
     "name": "stdout",
     "output_type": "stream",
     "text": [
      "clustering_coefficient\n",
      "\n",
      "ZDHHC9 AUC: mean=11.3; SE=0.037\n",
      "ZDHHC9 AUC: median=11.31; mad=0.144\n",
      "control AUC: mean=11.61; SE=0.031\n",
      "control AUC: median=11.58; mad=0.044\n",
      "Wilcoxon: W=5.88661149806; p=0.018\n",
      "Paired t-test: t(6)=5.89; p=0.001\n",
      "\n",
      "\\begin{tabular}{rrrrrr}\n",
      "\\toprule\n",
      " ZDHHC9\\_mean &  ZDHHC9\\_SE &  control\\_mean &  control\\_SE &     t &      p \\\\\n",
      "\\midrule\n",
      "        11.3 &      0.037 &         11.61 &       0.031 &  5.89 &  0.001 \\\\\n",
      "\\bottomrule\n",
      "\\end{tabular}\n",
      "\n",
      "global_efficiency\n",
      "\n",
      "ZDHHC9 AUC: mean=11.36; SE=0.05\n",
      "ZDHHC9 AUC: median=11.36; mad=0.143\n",
      "control AUC: mean=11.78; SE=0.03\n",
      "control AUC: median=11.79; mad=0.068\n",
      "Wilcoxon: W=8.41394481985; p=0.018\n",
      "Paired t-test: t(6)=8.41; p=0.0\n",
      "\n",
      "\\begin{tabular}{rrrrrr}\n",
      "\\toprule\n",
      " ZDHHC9\\_mean &  ZDHHC9\\_SE &  control\\_mean &  control\\_SE &     t &  p \\\\\n",
      "\\midrule\n",
      "       11.36 &       0.05 &         11.78 &        0.03 &  8.41 &  0 \\\\\n",
      "\\bottomrule\n",
      "\\end{tabular}\n",
      "\n"
     ]
    },
    {
     "data": {
      "image/png": "[encoded data removed]",
      "text/plain": [
       "<matplotlib.figure.Figure at 0x7f88e4421790>"
      ]
     },
     "metadata": {},
     "output_type": "display_data"
    }
   ],
   "source": [
    "threshold_range = np.arange(0.2, 1., 0.05)\n",
    "df = calculate_results(subject_list, threshold_range, 'CSD', '_ROI_normalized', 'proportional', False, outfolder + 'ROI_normalized.png')"
   ]
  },
  {
   "cell_type": "markdown",
   "metadata": {},
   "source": [
    "## 3. Streamline density normalized by streamline length"
   ]
  },
  {
   "cell_type": "code",
   "execution_count": 143,
   "metadata": {
    "collapsed": false,
    "scrolled": true
   },
   "outputs": [
    {
     "name": "stdout",
     "output_type": "stream",
     "text": [
      "clustering_coefficient\n",
      "\n",
      "ZDHHC9 AUC: mean=9.47; SE=0.086\n",
      "ZDHHC9 AUC: median=9.41; mad=0.219\n",
      "control AUC: mean=10.27; SE=0.102\n",
      "control AUC: median=10.25; mad=0.29\n",
      "Wilcoxon: W=9.14413576348; p=0.018\n",
      "Paired t-test: t(6)=9.14; p=0.0\n",
      "\n",
      "\\begin{tabular}{rrrrrr}\n",
      "\\toprule\n",
      " ZDHHC9\\_mean &  ZDHHC9\\_SE &  control\\_mean &  control\\_SE &     t &  p \\\\\n",
      "\\midrule\n",
      "        9.47 &      0.086 &         10.27 &       0.102 &  9.14 &  0 \\\\\n",
      "\\bottomrule\n",
      "\\end{tabular}\n",
      "\n",
      "global_efficiency\n",
      "\n",
      "ZDHHC9 AUC: mean=11.52; SE=0.039\n",
      "ZDHHC9 AUC: median=11.54; mad=0.122\n",
      "control AUC: mean=11.91; SE=0.037\n",
      "control AUC: median=11.93; mad=0.14\n",
      "Wilcoxon: W=16.0379654273; p=0.018\n",
      "Paired t-test: t(6)=16.04; p=0.0\n",
      "\n",
      "\\begin{tabular}{rrrrrr}\n",
      "\\toprule\n",
      " ZDHHC9\\_mean &  ZDHHC9\\_SE &  control\\_mean &  control\\_SE &      t &  p \\\\\n",
      "\\midrule\n",
      "       11.52 &      0.039 &         11.91 &       0.037 &  16.04 &  0 \\\\\n",
      "\\bottomrule\n",
      "\\end{tabular}\n",
      "\n"
     ]
    },
    {
     "data": {
      "image/png": "[encoded data removed]",
      "text/plain": [
       "<matplotlib.figure.Figure at 0x7f88e43f0050>"
      ]
     },
     "metadata": {},
     "output_type": "display_data"
    }
   ],
   "source": [
    "threshold_range = np.arange(0.2, 1., 0.05)\n",
    "df = calculate_results(subject_list, threshold_range, 'CSD', '_length_normalized', 'proportional', True, outfolder + 'length_normalized.png')"
   ]
  },
  {
   "cell_type": "markdown",
   "metadata": {},
   "source": [
    "## 2. Influence of crossing fibres"
   ]
  },
  {
   "cell_type": "code",
   "execution_count": 144,
   "metadata": {
    "collapsed": true
   },
   "outputs": [],
   "source": [
    "def load_data(folder, model, threshold, weight, subject): \n",
    "    import numpy as np\n",
    "    \n",
    "    if weight == '_FA':\n",
    "        weight_switch = str(0)\n",
    "    elif weight == '_RD':\n",
    "        weight_switch = str(1)\n",
    "    elif weight == '_GFA':\n",
    "        weight_switch = str(2)\n",
    "        \n",
    "    matrix = folder + '_subject_id_' + subject + '/_model_' + model + '/_threshold_' + threshold + '/calc_matrix/mapflow/_calc_matrix' + weight_switch + '/' + subject + weight + '_matrix.txt'\n",
    "    matrix = np.loadtxt(matrix)\n",
    "    \n",
    "    return matrix"
   ]
  },
  {
   "cell_type": "code",
   "execution_count": 145,
   "metadata": {
    "collapsed": false
   },
   "outputs": [],
   "source": [
    "def calculate_results(subject_list, threshold_range, model, weight, annotation, figure_name):\n",
    "    d = []\n",
    "    threshold_range = np.arange(0,100,10)\n",
    "\n",
    "    for subject in subject_list:\n",
    "        for threshold in threshold_range:\n",
    "\n",
    "            # Loading the data\n",
    "            network = load_data(folder, model, str(threshold), '_FA', subject)\n",
    "            network[np.isnan(network)] = 0 # removing NaN\n",
    "\n",
    "            # Calculating graph metrics\n",
    "            clustering_coefficient = np.mean(bct.clustering_coef_wu(network))\n",
    "            global_efficiency = bct.charpath(bct.distance_wei(bct.weight_conversion(network, 'lengths'))[0])[1]\n",
    "\n",
    "            # Setting group variable\n",
    "            group = 'ZDHHC9' if re.search('z', subject) else 'control'\n",
    "\n",
    "            # Collecting the data\n",
    "            d.append({'ID':subject, \n",
    "                      'threshold': threshold,\n",
    "                      'group': group,\n",
    "                      'clustering_coefficient': clustering_coefficient,\n",
    "                      'global_efficiency': global_efficiency})\n",
    "\n",
    "    df = pd.DataFrame(d)\n",
    "\n",
    "    for measure in ['clustering_coefficient', 'global_efficiency']:\n",
    "        control_area = [np.cumsum(df[df['ID'] == subject][measure].values)[-1] for subject in subject_list if re.search('c', subject)]\n",
    "        ZDHHC9_area = [np.cumsum(df[df['ID'] == subject][measure].values)[-1] for subject in subject_list if re.search('z', subject)]\n",
    "        print measure + '\\n'\n",
    "        print('ZDHHC9 AUC: mean=' + str(round(np.mean(ZDHHC9_area), 2)) +\n",
    "             '; SE=' + str(round(sem(ZDHHC9_area), 3)))\n",
    "        print('ZDHHC9 AUC: median=' + str(round(np.median(ZDHHC9_area), 2)) +\n",
    "             '; mad=' + str(round(robust.mad(ZDHHC9_area), 3)))\n",
    "        print('control AUC: mean=' + str(round(np.mean(control_area), 2)) +\n",
    "             '; SE=' + str(round(sem(control_area), 3)))\n",
    "        print('control AUC: median=' + str(round(np.median(control_area), 2)) +\n",
    "             '; mad=' + str(round(robust.mad(control_area), 3)))\n",
    "        print('Wilcoxon: W=' + \n",
    "        str(wilcoxon(control_area, ZDHHC9_area)[0]) + '; p=' +\n",
    "        str(round(wilcoxon(control_area, ZDHHC9_area)[1], 3)))\n",
    "        print('Paired t-test: t(' + str(len(control_area) -1) + ')=' + \n",
    "        str(round(ttest_rel(control_area, ZDHHC9_area)[0], 2)) + '; p=' +\n",
    "        str(round(ttest_rel(control_area, ZDHHC9_area)[1], 3)) + '\\n')\n",
    "        \n",
    "        table_df = pd.DataFrame([{'ZDHHC9_mean': round(np.mean(ZDHHC9_area), 2),\n",
    "                              'ZDHHC9_SE': round(sem(ZDHHC9_area), 3), \n",
    "                              'control_mean': round(np.mean(control_area), 2),\n",
    "                              'control_SE': round(sem(control_area), 3),\n",
    "                              't': round(ttest_rel(control_area, ZDHHC9_area)[0], 2),\n",
    "                              'p': round(ttest_rel(control_area, ZDHHC9_area)[1], 3)}])\n",
    "        print(table_df[['ZDHHC9_mean', 'ZDHHC9_SE', 'control_mean', 'control_SE', 't', 'p']].to_latex(index=False))\n",
    "\n",
    "    # Plotting\n",
    "    fig = plt.figure(figsize=(double_column/3, double_column/3), dpi=600)\n",
    "\n",
    "    for measure in ['clustering_coefficient', 'global_efficiency']:\n",
    "        for group in ['control', 'ZDHHC9']:\n",
    "\n",
    "            copy_df = df.copy()\n",
    "            copy_df = copy_df[df['group'] == group]\n",
    "            median = copy_df.groupby('threshold').median()[measure].values\n",
    "            mad = copy_df.groupby('threshold').agg(robust.mad)[measure].values\n",
    "            colour = '#56B4E9' if group == 'control' else '#D55E00'\n",
    "            marker = 'o' if measure == 'clustering_coefficient' else 'D'\n",
    "            linestyle = 'solid' if measure == 'clustering_coefficient' else 'dashed'\n",
    "\n",
    "            plt.errorbar(x = threshold_range,\n",
    "                         y = median,\n",
    "                         yerr = mad,\n",
    "                         marker = marker,\n",
    "                         markersize = 2,\n",
    "                         color=colour,\n",
    "                         linestyle=linestyle,\n",
    "                         linewidth=1)\n",
    "\n",
    "\n",
    "    plt.ylim(ymax = 0.5, ymin = 0)\n",
    "\n",
    "    if annotation:\n",
    "        plt.legend(['control', r'\\textit{ZDHHC9}'], loc='best')\n",
    "\n",
    "    plt.savefig(figure_name, dpi=300)\n",
    "    plt.show()"
   ]
  },
  {
   "cell_type": "code",
   "execution_count": 146,
   "metadata": {
    "collapsed": false
   },
   "outputs": [
    {
     "name": "stdout",
     "output_type": "stream",
     "text": [
      "clustering_coefficient\n",
      "\n",
      "ZDHHC9 AUC: mean=0.81; SE=0.044\n",
      "ZDHHC9 AUC: median=0.81; mad=0.098\n",
      "control AUC: mean=1.13; SE=0.041\n",
      "control AUC: median=1.13; mad=0.137\n",
      "Wilcoxon: W=0.0; p=0.018\n",
      "Paired t-test: t(6)=10.81; p=0.0\n",
      "\n",
      "\\begin{tabular}{rrrrrr}\n",
      "\\toprule\n",
      " ZDHHC9\\_mean &  ZDHHC9\\_SE &  control\\_mean &  control\\_SE &      t &  p \\\\\n",
      "\\midrule\n",
      "        0.81 &      0.044 &          1.13 &       0.041 &  10.81 &  0 \\\\\n",
      "\\bottomrule\n",
      "\\end{tabular}\n",
      "\n",
      "global_efficiency\n",
      "\n",
      "ZDHHC9 AUC: mean=0.52; SE=0.023\n",
      "ZDHHC9 AUC: median=0.52; mad=0.03\n",
      "control AUC: mean=0.8; SE=0.028\n",
      "control AUC: median=0.8; mad=0.094\n",
      "Wilcoxon: W=0.0; p=0.018\n",
      "Paired t-test: t(6)=8.47; p=0.0\n",
      "\n",
      "\\begin{tabular}{rrrrrr}\n",
      "\\toprule\n",
      " ZDHHC9\\_mean &  ZDHHC9\\_SE &  control\\_mean &  control\\_SE &     t &  p \\\\\n",
      "\\midrule\n",
      "        0.52 &      0.023 &           0.8 &       0.028 &  8.47 &  0 \\\\\n",
      "\\bottomrule\n",
      "\\end{tabular}\n",
      "\n"
     ]
    },
    {
     "data": {
      "image/png": "[encoded data removed]",
      "text/plain": [
       "<matplotlib.figure.Figure at 0x7f88e3f9f650>"
      ]
     },
     "metadata": {},
     "output_type": "display_data"
    }
   ],
   "source": [
    "threshold_range = np.arange(0,100,10)\n",
    "calculate_results(subject_list, threshold_range, 'CSD', '_FA', False, outfolder + 'FA_weighted.png')"
   ]
  },
  {
   "cell_type": "code",
   "execution_count": 147,
   "metadata": {
    "collapsed": false,
    "scrolled": true
   },
   "outputs": [
    {
     "name": "stdout",
     "output_type": "stream",
     "text": [
      "clustering_coefficient\n",
      "\n",
      "ZDHHC9 AUC: mean=0.81; SE=0.044\n",
      "ZDHHC9 AUC: median=0.81; mad=0.098\n",
      "control AUC: mean=1.13; SE=0.041\n",
      "control AUC: median=1.13; mad=0.137\n",
      "Wilcoxon: W=0.0; p=0.018\n",
      "Paired t-test: t(6)=10.81; p=0.0\n",
      "\n",
      "\\begin{tabular}{rrrrrr}\n",
      "\\toprule\n",
      " ZDHHC9\\_mean &  ZDHHC9\\_SE &  control\\_mean &  control\\_SE &      t &  p \\\\\n",
      "\\midrule\n",
      "        0.81 &      0.044 &          1.13 &       0.041 &  10.81 &  0 \\\\\n",
      "\\bottomrule\n",
      "\\end{tabular}\n",
      "\n",
      "global_efficiency\n",
      "\n",
      "ZDHHC9 AUC: mean=0.52; SE=0.023\n",
      "ZDHHC9 AUC: median=0.52; mad=0.03\n",
      "control AUC: mean=0.8; SE=0.028\n",
      "control AUC: median=0.8; mad=0.094\n",
      "Wilcoxon: W=0.0; p=0.018\n",
      "Paired t-test: t(6)=8.47; p=0.0\n",
      "\n",
      "\\begin{tabular}{rrrrrr}\n",
      "\\toprule\n",
      " ZDHHC9\\_mean &  ZDHHC9\\_SE &  control\\_mean &  control\\_SE &     t &  p \\\\\n",
      "\\midrule\n",
      "        0.52 &      0.023 &           0.8 &       0.028 &  8.47 &  0 \\\\\n",
      "\\bottomrule\n",
      "\\end{tabular}\n",
      "\n"
     ]
    },
    {
     "data": {
      "image/png": "[encoded data removed]",
      "text/plain": [
       "<matplotlib.figure.Figure at 0x7f88da763ed0>"
      ]
     },
     "metadata": {},
     "output_type": "display_data"
    }
   ],
   "source": [
    "threshold_range = np.arange(0,100,10)\n",
    "calculate_results(subject_list, threshold_range, 'CSD', '_GFA', False, outfolder + 'GFA_weighted.png')"
   ]
  },
  {
   "cell_type": "markdown",
   "metadata": {},
   "source": [
    "## 3. Influence of diffusion model"
   ]
  },
  {
   "cell_type": "markdown",
   "metadata": {},
   "source": [
    "Adjacency matrices for both models thresholded at the same cut-off"
   ]
  },
  {
   "cell_type": "code",
   "execution_count": 148,
   "metadata": {
    "collapsed": true
   },
   "outputs": [],
   "source": [
    "def load_data(folder, model, threshold, weight, subject): \n",
    "    import numpy as np\n",
    "    \n",
    "    if weight == '_FA':\n",
    "        weight_switch = str(0)\n",
    "    elif weight == '_RD':\n",
    "        weight_switch = str(1)\n",
    "    elif weight == '_GFA':\n",
    "        weight_switch = str(2)\n",
    "        \n",
    "    matrix = folder + '_subject_id_' + subject + '/_model_' + model + '/_threshold_' + threshold + '/calc_matrix/mapflow/_calc_matrix' + weight_switch + '/' + subject + weight + '_matrix.txt'\n",
    "    matrix = np.loadtxt(matrix)\n",
    "    \n",
    "    # Exclude label entries \n",
    "    entries_to_exclude = [1, 2, 3, 4, 10, 11, 15, 17, 18, 19, 20, 21, 22, 23, 32, 33, 34, 35, 36, 37, 38, 39, 40, 41, 42, 43]\n",
    "    matrix = np.delete(matrix,entries_to_exclude, axis=0)\n",
    "    matrix = np.delete(matrix,entries_to_exclude, axis=1)\n",
    "    \n",
    "    # Removing NaN values\n",
    "    matrix[np.isnan(matrix)] = 0\n",
    "    \n",
    "    return matrix"
   ]
  },
  {
   "cell_type": "code",
   "execution_count": 108,
   "metadata": {
    "collapsed": false
   },
   "outputs": [
    {
     "data": {
      "image/png": "[encoded data removed]",
      "text/plain": [
       "<matplotlib.figure.Figure at 0x7f88e4613e90>"
      ]
     },
     "metadata": {},
     "output_type": "display_data"
    },
    {
     "data": {
      "image/png": "[encoded data removed]",
      "text/plain": [
       "<matplotlib.figure.Figure at 0x7f88e448d990>"
      ]
     },
     "metadata": {},
     "output_type": "display_data"
    },
    {
     "data": {
      "image/png": "[encoded data removed]",
      "text/plain": [
       "<matplotlib.figure.Figure at 0x7f88e43db8d0>"
      ]
     },
     "metadata": {},
     "output_type": "display_data"
    },
    {
     "data": {
      "image/png": "[encoded data removed]",
      "text/plain": [
       "<matplotlib.figure.Figure at 0x7f88e3f19790>"
      ]
     },
     "metadata": {},
     "output_type": "display_data"
    }
   ],
   "source": [
    "for model in ['CSD', 'CSA']:\n",
    "    control_networks = np.rollaxis(np.asarray([load_data(folder, model, str(10), '_FA', subject) for subject in subject_list if re.search('c', subject)]), 0, 3)\n",
    "    ZDHHC9_networks = np.rollaxis(np.asarray([load_data(folder, model, str(10), '_FA', subject) for subject in subject_list if re.search('z', subject)]), 0, 3)\n",
    "    plot_adjacency_matrix(np.mean(control_networks, axis=2), outfolder + 'control_' + model + '.png', False, 'control ' + model)\n",
    "    plot_adjacency_matrix(np.mean(ZDHHC9_networks, axis=2), outfolder + 'ZDHHC9_' + model + '.png', False, r'\\textit{ZDHHC9} ' + model)"
   ]
  },
  {
   "cell_type": "markdown",
   "metadata": {},
   "source": [
    "Quantifying the similarity of those matrices"
   ]
  },
  {
   "cell_type": "code",
   "execution_count": 111,
   "metadata": {
    "collapsed": false
   },
   "outputs": [
    {
     "name": "stdout",
     "output_type": "stream",
     "text": [
      "mean: 0.65\n",
      "SE: 0.011\n",
      "median: 0.63\n",
      "mad: 0.041\n"
     ]
    }
   ],
   "source": [
    "correlations = list()\n",
    "\n",
    "for subject in subject_list:\n",
    "    network1 = bct.binarize(bct.threshold_proportional(load_data(folder, 'CSD', str(10), '_FA', subject), 0.1))\n",
    "    network2 = bct.binarize(bct.threshold_proportional(load_data(folder, 'CSA', str(10), '_FA', subject), 0.1))\n",
    "    correlations.append(pearsonr(network1.flatten(), network2.flatten())[0])\n",
    "    \n",
    "print('mean: ' + str(round(np.mean(correlations), 2)))\n",
    "print('SE: ' + str(round(sem(correlations), 3)))\n",
    "print('median: ' + str(round(np.median(correlations),2)))\n",
    "print('mad: ' + str(round(robust.mad(correlations), 3)))"
   ]
  },
  {
   "cell_type": "code",
   "execution_count": 149,
   "metadata": {
    "collapsed": false,
    "scrolled": true
   },
   "outputs": [
    {
     "name": "stdout",
     "output_type": "stream",
     "text": [
      "clustering_coefficient\n",
      "\n",
      "ZDHHC9 AUC: mean=1.07; SE=0.054\n",
      "ZDHHC9 AUC: median=1.06; mad=0.145\n",
      "control AUC: mean=1.4; SE=0.107\n",
      "control AUC: median=1.31; mad=0.368\n",
      "Wilcoxon: W=0.0; p=0.018\n",
      "Paired t-test: t(6)=3.28; p=0.017\n",
      "\n",
      "\\begin{tabular}{rrrrrr}\n",
      "\\toprule\n",
      " ZDHHC9\\_mean &  ZDHHC9\\_SE &  control\\_mean &  control\\_SE &     t &      p \\\\\n",
      "\\midrule\n",
      "        1.07 &      0.054 &           1.4 &       0.107 &  3.28 &  0.017 \\\\\n",
      "\\bottomrule\n",
      "\\end{tabular}\n",
      "\n",
      "global_efficiency\n",
      "\n",
      "ZDHHC9 AUC: mean=0.76; SE=0.035\n",
      "ZDHHC9 AUC: median=0.79; mad=0.077\n",
      "control AUC: mean=1.21; SE=0.066\n",
      "control AUC: median=1.21; mad=0.285\n",
      "Wilcoxon: W=0.0; p=0.018\n",
      "Paired t-test: t(6)=7.83; p=0.0\n",
      "\n",
      "\\begin{tabular}{rrrrrr}\n",
      "\\toprule\n",
      " ZDHHC9\\_mean &  ZDHHC9\\_SE &  control\\_mean &  control\\_SE &     t &  p \\\\\n",
      "\\midrule\n",
      "        0.76 &      0.035 &          1.21 &       0.066 &  7.83 &  0 \\\\\n",
      "\\bottomrule\n",
      "\\end{tabular}\n",
      "\n"
     ]
    },
    {
     "data": {
      "image/png": "[encoded data removed]",
      "text/plain": [
       "<matplotlib.figure.Figure at 0x7f88ddc3b710>"
      ]
     },
     "metadata": {},
     "output_type": "display_data"
    }
   ],
   "source": [
    "threshold_range = np.arange(0,100,10)\n",
    "calculate_results(subject_list, threshold_range, 'CSA', '_FA', False, outfolder + 'CSA_FA_weighted.png')"
   ]
  },
  {
   "cell_type": "code",
   "execution_count": null,
   "metadata": {
    "collapsed": true
   },
   "outputs": [],
   "source": []
  }
 ],
 "metadata": {
  "anaconda-cloud": {},
  "kernelspec": {
   "display_name": "Python 2",
   "language": "python",
   "name": "python2"
  },
  "language_info": {
   "codemirror_mode": {
    "name": "ipython",
    "version": 2
   },
   "file_extension": ".py",
   "mimetype": "text/x-python",
   "name": "python",
   "nbconvert_exporter": "python",
   "pygments_lexer": "ipython2",
   "version": "2.7.12"
  }
 },
 "nbformat": 4,
 "nbformat_minor": 0
}
