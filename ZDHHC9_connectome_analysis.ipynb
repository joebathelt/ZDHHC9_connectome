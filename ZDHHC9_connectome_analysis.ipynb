{
 "cells": [
  {
   "cell_type": "code",
   "execution_count": 33,
   "metadata": {
    "collapsed": false
   },
   "outputs": [
    {
     "name": "stdout",
     "output_type": "stream",
     "text": [
      "Populating the interactive namespace from numpy and matplotlib\n"
     ]
    }
   ],
   "source": [
    "%pylab inline"
   ]
  },
  {
   "cell_type": "code",
   "execution_count": 34,
   "metadata": {
    "collapsed": false
   },
   "outputs": [],
   "source": [
    "import bct\n",
    "import nibabel as nib\n",
    "import numpy as np\n",
    "import os\n",
    "import pandas as pd\n",
    "import re\n",
    "from scipy.stats import ttest_rel\n",
    "from scipy.stats import sem\n",
    "from scipy.stats import shapiro\n",
    "from scipy.stats import wilcoxon\n",
    "import seaborn as sns\n",
    "from statsmodels import robust\n",
    "from statsmodels.formula.api import ols"
   ]
  },
  {
   "cell_type": "code",
   "execution_count": 35,
   "metadata": {
    "collapsed": true
   },
   "outputs": [],
   "source": [
    "from matplotlib import rcParams  \n",
    "rcParams['font.family'] = 'serif'  \n",
    "rcParams['font.serif'] = ['Computer Modern Unicode']  \n",
    "rcParams['text.usetex'] = True  \n",
    "rcParams['axes.labelsize'] = 9  \n",
    "rcParams['xtick.labelsize'] = 9  \n",
    "rcParams['ytick.labelsize'] = 9  \n",
    "rcParams['legend.fontsize'] = 9  \n",
    "rcParams['figure.autolayout'] = True\n",
    "mm2inches = 0.039371\n",
    "single_column = 86*mm2inches\n",
    "double_column = 180*mm2inches"
   ]
  },
  {
   "cell_type": "code",
   "execution_count": 36,
   "metadata": {
    "collapsed": true
   },
   "outputs": [],
   "source": [
    "sns.set_style(\"whitegrid\")\n",
    "sns.set_style({'axes.grid': False,\n",
    "               'font.family': [u'serif'],\n",
    "               'font.sans-serif': [u'Computer Modern Unicode'],})"
   ]
  },
  {
   "cell_type": "code",
   "execution_count": 37,
   "metadata": {
    "collapsed": true
   },
   "outputs": [],
   "source": [
    "outfolder = '/imaging/jb07/ZDHHC9/connectome_revisions/figures/'"
   ]
  },
  {
   "cell_type": "code",
   "execution_count": 38,
   "metadata": {
    "collapsed": false
   },
   "outputs": [],
   "source": [
    "def plot_adjacency_matrix(network, filename):\n",
    "    import matplotlib.pyplot as plt\n",
    "    from mpl_toolkits.axes_grid1 import make_axes_locatable\n",
    "    rcParams['xtick.labelsize'] = 6 \n",
    "    rcParams['ytick.labelsize'] = 6  \n",
    "\n",
    "    ## Loading labels\n",
    "    labels = pd.read_csv('/home/jb07/joe_python/GitHub/ZDHHC9_connectome/DK_labels.txt', header=None)[0].values\n",
    "\n",
    "    plt.figure(figsize=(double_column, double_column), dpi=300)\n",
    "    im = plt.imshow(network, \n",
    "               cmap='afmhot',\n",
    "               interpolation='none',\n",
    "               vmin=0,\n",
    "               vmax=1)\n",
    "    ax = plt.gca()\n",
    "    ax.set_yticks(np.arange(0,network.shape[0]))\n",
    "    ax.set_yticklabels(labels)\n",
    "    ax.yaxis.tick_right()\n",
    "    ax.set_xticks(np.arange(0,network.shape[0]))\n",
    "    ax.set_xticklabels(labels, rotation=90)\n",
    "    ax.grid('off')\n",
    "    \n",
    "    rcParams['xtick.labelsize'] = 9\n",
    "    rcParams['ytick.labelsize'] = 9  \n",
    "    divider = make_axes_locatable(ax)\n",
    "    #cax = divider.append_axes(\"right\", size=\"5%\", pad=0.05)\n",
    "    #cb = plt.colorbar(im, cax=cax)\n",
    "    #cb.ax.yaxis.set_label_position('right')\n",
    "    plt.tight_layout(pad=0, w_pad=1, h_pad=0)\n",
    "    plt.savefig(filename, dpi=600)\n",
    "    plt.show()"
   ]
  },
  {
   "cell_type": "code",
   "execution_count": 39,
   "metadata": {
    "collapsed": true
   },
   "outputs": [],
   "source": [
    "def load_data(folder, model, threshold, weight, subject): \n",
    "    import numpy as np\n",
    "    \n",
    "    if weight == '_FA':\n",
    "        weight_switch = str(0)\n",
    "    elif weight == '_RD':\n",
    "        weight_switch = str(1)\n",
    "    elif weight == '_GFA':\n",
    "        weight_switch = str(2)\n",
    "        \n",
    "    matrix = folder + '_subject_id_' + subject + '/_model_' + model + '/_threshold_' + threshold + '/calc_matrix/mapflow/_calc_matrix' + weight_switch + '/' + subject + weight + '_matrix.txt'\n",
    "    matrix = np.loadtxt(matrix)\n",
    "    \n",
    "    # Exclude label entries \n",
    "    entries_to_exclude = [1, 2, 3, 4, 10, 11, 15, 17, 18, 19, 20, 21, 22, 23, 32, 33, 34, 35, 36, 37, 38, 39, 40, 41, 42, 43]\n",
    "    matrix = np.delete(matrix,entries_to_exclude, axis=0)\n",
    "    matrix = np.delete(matrix,entries_to_exclude, axis=1)\n",
    "    \n",
    "    # Removing NaN values\n",
    "    matrix[np.isnan(matrix)] = 0\n",
    "    \n",
    "    return matrix"
   ]
  },
  {
   "cell_type": "code",
   "execution_count": 40,
   "metadata": {
    "collapsed": true
   },
   "outputs": [],
   "source": [
    "folder = '/imaging/jb07/ZDHHC9/connectome_revisions/connectome/'"
   ]
  },
  {
   "cell_type": "code",
   "execution_count": 41,
   "metadata": {
    "collapsed": false
   },
   "outputs": [],
   "source": [
    "subject_list = sorted([subject.split('_')[-1] for subject in os.listdir(folder) if re.search('subject', subject)])"
   ]
  },
  {
   "cell_type": "markdown",
   "metadata": {},
   "source": [
    "## Comparing nuisance variable"
   ]
  },
  {
   "cell_type": "markdown",
   "metadata": {},
   "source": [
    "RMS displacement"
   ]
  },
  {
   "cell_type": "code",
   "execution_count": 134,
   "metadata": {
    "collapsed": true
   },
   "outputs": [],
   "source": [
    "df = pd.read_csv('/imaging/jb07/ZDHHC9/motion/Displacements_Results.csv')"
   ]
  },
  {
   "cell_type": "code",
   "execution_count": 138,
   "metadata": {
    "collapsed": false
   },
   "outputs": [
    {
     "name": "stdout",
     "output_type": "stream",
     "text": [
      "ZDHHC9\n",
      "mean: 2.1\n",
      "SE: 0.292\n",
      "median: 1.97\n",
      "mad: 0.648\n",
      "control\n",
      "mean: 1.8\n",
      "SE: 0.304\n",
      "median: 1.53\n",
      "mad: 0.314\n"
     ]
    }
   ],
   "source": [
    "for group in ['ZDHHC9', 'control']:\n",
    "    print(group)\n",
    "    print('mean: ' + str(round(np.mean(df[df['group'] == group]['Unnamed: 1']), 2)))\n",
    "    print('SE: ' + str(round(sem(df[df['group'] == group]['Unnamed: 1']), 3)))\n",
    "    print('median: ' + str(round(np.median(df[df['group'] == group]['Unnamed: 1']), 2)))\n",
    "    print('mad: '+ str(round(robust.mad(df[df['group'] == group]['Unnamed: 1']), 3)))"
   ]
  },
  {
   "cell_type": "code",
   "execution_count": 79,
   "metadata": {
    "collapsed": false,
    "scrolled": true
   },
   "outputs": [
    {
     "data": {
      "text/plain": [
       "Ttest_relResult(statistic=-0.58985872368309544, pvalue=0.57680805175906857)"
      ]
     },
     "execution_count": 79,
     "metadata": {},
     "output_type": "execute_result"
    }
   ],
   "source": [
    "ttest_rel(df[df['group'] == 'control']['Unnamed: 1'], df[df['group'] == 'ZDHHC9']['Unnamed: 1'])"
   ]
  },
  {
   "cell_type": "code",
   "execution_count": 80,
   "metadata": {
    "collapsed": false,
    "scrolled": true
   },
   "outputs": [
    {
     "data": {
      "text/plain": [
       "WilcoxonResult(statistic=10.0, pvalue=0.49896229860376107)"
      ]
     },
     "execution_count": 80,
     "metadata": {},
     "output_type": "execute_result"
    }
   ],
   "source": [
    "wilcoxon(df[df['group'] == 'control']['Unnamed: 1'], df[df['group'] == 'ZDHHC9']['Unnamed: 1'])"
   ]
  },
  {
   "cell_type": "markdown",
   "metadata": {},
   "source": [
    "Number of corrupted voxels"
   ]
  },
  {
   "cell_type": "code",
   "execution_count": 139,
   "metadata": {
    "collapsed": false
   },
   "outputs": [],
   "source": [
    "in_folder = '/imaging/jb07/ZDHHC9/connectome_revisions/connectome/'\n",
    "d = []\n",
    "\n",
    "for subject in subject_list:\n",
    "    filename = in_folder + '_subject_id_' + subject + '/dwi_preproc/eddy/eddy_corrected.eddy_outlier_map'\n",
    "\n",
    "    sums = list()\n",
    "\n",
    "    with open(filename) as f:\n",
    "        next(f)\n",
    "        for line in f:\n",
    "            values = np.asarray(line[:-2].split(' '))\n",
    "            sums.append(np.sum([int(value) for value in values]))\n",
    "\n",
    "    total = np.sum(sums)\n",
    "    group = 'control' if re.search('c', subject) else 'ZDHHC9'\n",
    "    \n",
    "    d.append({'subject': subject,\n",
    "              'outliers': total,\n",
    "              'group': group})\n",
    "df = pd.DataFrame(d)"
   ]
  },
  {
   "cell_type": "code",
   "execution_count": 140,
   "metadata": {
    "collapsed": false
   },
   "outputs": [
    {
     "name": "stdout",
     "output_type": "stream",
     "text": [
      "ZDHHC9\n",
      "mean: 12.71\n",
      "SE: 2.254\n",
      "median: 11.0\n",
      "mad: 5.93\n",
      "control\n",
      "mean: 10.0\n",
      "SE: 3.078\n",
      "median: 8.0\n",
      "mad: 5.93\n"
     ]
    }
   ],
   "source": [
    "for group in ['ZDHHC9', 'control']:\n",
    "    print(group)\n",
    "    print('mean: ' + str(round(np.mean(df[df['group'] == group]['outliers']), 2)))\n",
    "    print('SE: ';  str(round(sem(df[df['group'] == group]['outliers']), 3)))\n",
    "    print('median: ' + str(round(np.median(df[df['group'] == group]['outliers']), 2)))\n",
    "    print('mad: '+ str(round(robust.mad(df[df['group'] == group]['outliers']), 3)))"
   ]
  },
  {
   "cell_type": "code",
   "execution_count": 131,
   "metadata": {
    "collapsed": false
   },
   "outputs": [
    {
     "data": {
      "text/plain": [
       "Ttest_relResult(statistic=-1.0921223729660698, pvalue=0.31667963027925633)"
      ]
     },
     "execution_count": 131,
     "metadata": {},
     "output_type": "execute_result"
    }
   ],
   "source": [
    "ttest_rel(df[df['group'] == 'control']['outliers'], df[df['group'] == 'ZDHHC9']['outliers'])"
   ]
  },
  {
   "cell_type": "code",
   "execution_count": 132,
   "metadata": {
    "collapsed": false
   },
   "outputs": [
    {
     "data": {
      "text/plain": [
       "WilcoxonResult(statistic=8.0, pvalue=0.31049443431723489)"
      ]
     },
     "execution_count": 132,
     "metadata": {},
     "output_type": "execute_result"
    }
   ],
   "source": [
    "wilcoxon(df[df['group'] == 'control']['outliers'], df[df['group'] == 'ZDHHC9']['outliers'])"
   ]
  },
  {
   "cell_type": "markdown",
   "metadata": {},
   "source": [
    "## Plotting overview matrices"
   ]
  },
  {
   "cell_type": "code",
   "execution_count": 42,
   "metadata": {
    "collapsed": false
   },
   "outputs": [],
   "source": [
    "control_networks = np.rollaxis(np.asarray([load_data(folder, 'CSD', str(10), '_FA', subject) for subject in subject_list if re.search('c', subject)]), 0, 3)\n",
    "ZDHHC9_networks = np.rollaxis(np.asarray([load_data(folder, 'CSD', str(10), '_FA', subject) for subject in subject_list if re.search('z', subject)]), 0, 3)"
   ]
  },
  {
   "cell_type": "code",
   "execution_count": 565,
   "metadata": {
    "collapsed": false
   },
   "outputs": [
    {
     "data": {
      "image/png": "[encoded data removed]",
      "text/plain": [
       "<matplotlib.figure.Figure at 0x7f836fb76c90>"
      ]
     },
     "metadata": {},
     "output_type": "display_data"
    }
   ],
   "source": [
    "plot_adjacency_matrix(np.mean(ZDHHC9_networks, axis=2), outfolder + 'ZDHHC9_adjmat.png')"
   ]
  },
  {
   "cell_type": "code",
   "execution_count": 566,
   "metadata": {
    "collapsed": false,
    "scrolled": false
   },
   "outputs": [
    {
     "data": {
      "image/png": "[encoded data removed]",
      "text/plain": [
       "<matplotlib.figure.Figure at 0x7f83743c84d0>"
      ]
     },
     "metadata": {},
     "output_type": "display_data"
    }
   ],
   "source": [
    "plot_adjacency_matrix(np.mean(control_networks, axis=2), outfolder + 'control_adjmat.png')"
   ]
  },
  {
   "cell_type": "markdown",
   "metadata": {},
   "source": [
    "Creating files for visualization with BrainNet Viewer"
   ]
  },
  {
   "cell_type": "code",
   "execution_count": 22,
   "metadata": {
    "collapsed": false
   },
   "outputs": [],
   "source": [
    "control_network = np.mean(control_networks, axis=2)\n",
    "control_network = control_network[17:, :]\n",
    "control_network = control_network[:, 17:]\n",
    "np.savetxt(outfolder + 'control_mean.txt', control_network)\n",
    "#np.savetxt(outfolder + 'ZDHHC9_mean.txt', np.mean(ZDHHC9_networks, axis=2))"
   ]
  },
  {
   "cell_type": "code",
   "execution_count": 721,
   "metadata": {
    "collapsed": false,
    "scrolled": true
   },
   "outputs": [
    {
     "data": {
      "text/plain": [
       "array([2], dtype=int32)"
      ]
     },
     "execution_count": 721,
     "metadata": {},
     "output_type": "execute_result"
    }
   ],
   "source": [
    "np.unique(roi_data)[1:2]"
   ]
  },
  {
   "cell_type": "code",
   "execution_count": 28,
   "metadata": {
    "collapsed": true
   },
   "outputs": [],
   "source": [
    "def make_BrainNet_file(filename, network, out_file, labels_file):\n",
    "    import bct\n",
    "    import nibabel as nib\n",
    "    import numpy as np\n",
    "    import pandas as pd\n",
    "\n",
    "    # Loading the data\n",
    "    img = nib.load(filename)\n",
    "    data = img.get_data()\n",
    "    affine = img.affine\n",
    "    labels = sorted(pd.read_csv(labels_file)['label_number'].values)\n",
    "\n",
    "    # Calculating the centroids - the crucial part is to apply the affine to get from voxel to real-world coordinates\n",
    "    get_centroid = lambda label: nib.affines.apply_affine(affine, np.mean(np.where(data == label), axis=1))\n",
    "    centroids = np.asarray([get_centroid(label) for label in labels])\n",
    "\n",
    "    # This creates a .node file to use with BrainNet viewer\n",
    "    degrees = bct.degrees_und(network)\n",
    "\n",
    "    df = pd.DataFrame({'x': np.round(centroids[:, 0], 2),\n",
    "                     'y': np.round(centroids[:, 1], 2),\n",
    "                     'z': np.round(centroids[:, 2], 2),\n",
    "                     'colour': degrees,\n",
    "                     'size': degrees})\n",
    "\n",
    "    df['label'] = labels\n",
    "    df[['x','y','z','colour','size', 'label']].to_csv(out_file, header=None, index=False, sep='\\t')"
   ]
  },
  {
   "cell_type": "code",
   "execution_count": 31,
   "metadata": {
    "collapsed": false
   },
   "outputs": [],
   "source": [
    "filename =  '/home/jb07/Desktop/temp/FreeSurfer/CBU_MNI152/mri/aparc+aseg.nii.gz'\n",
    "out_file = '/home/jb07/Desktop/temp/nodes.node'\n",
    "labels_file = '/home/jb07/Desktop/temp/labels.csv'\n",
    "network = np.mean(ZDHHC9_networks, axis=2)\n",
    "network = network[1:,:]\n",
    "network = network[:,1:]\n",
    "np.savetxt(outfolder + '/ZDHHC9.edge', network)\n",
    "make_BrainNet_file(filename, network, out_file, labels_file)"
   ]
  },
  {
   "cell_type": "code",
   "execution_count": 30,
   "metadata": {
    "collapsed": true
   },
   "outputs": [],
   "source": [
    "filename =  '/home/jb07/Desktop/temp/FreeSurfer/CBU_MNI152/mri/aparc+aseg.nii.gz'\n",
    "out_file = '/home/jb07/Desktop/temp/nodes.node'\n",
    "labels_file = '/home/jb07/Desktop/temp/labels.csv'\n",
    "network = np.mean(control_networks, axis=2)\n",
    "network = network[1:,:]\n",
    "network = network[:,1:]\n",
    "np.savetxt(outfolder + '/control.edge', network)\n",
    "make_BrainNet_file(filename, network, out_file, labels_file)"
   ]
  },
  {
   "cell_type": "markdown",
   "metadata": {},
   "source": [
    "## Comparison of edge weight by region"
   ]
  },
  {
   "cell_type": "code",
   "execution_count": 43,
   "metadata": {
    "collapsed": false
   },
   "outputs": [],
   "source": [
    "d = []\n",
    "threshold_range = np.arange(0,100,10)\n",
    "\n",
    "for subject in subject_list:\n",
    "    for threshold in threshold_range:\n",
    "        \n",
    "        # Loading the adjacency matrix\n",
    "        network = load_data(folder, 'CSD', str(threshold), '_FA', subject)\n",
    "        \n",
    "        # Getting the labels for the matrix\n",
    "        labels = pd.read_csv('/home/jb07/joe_python/GitHub/ZDHHC9_connectome/DK_labels.txt', header=None)[0].values\n",
    "        \n",
    "        subcortical_labels = [np.where(labels == label)[0][0] for label in labels if re.search('(Left|Right)', label)]\n",
    "        lh_labels = [np.where(labels == label)[0][0] for label in labels if re.search('lh', label)]\n",
    "        rh_labels = [np.where(labels == label)[0][0] for label in labels if re.search('rh', label)]\n",
    "\n",
    "        mean_connection_strength = list()\n",
    "        \n",
    "        # Selecting subcortical, left and right cortical, and cortical interhemispheric connections\n",
    "        for labels in [(subcortical_labels, subcortical_labels), (lh_labels, lh_labels), (rh_labels, rh_labels), (lh_labels, rh_labels)]:\n",
    "            subconnections = network.copy()\n",
    "            subconnections = subconnections[labels[0], ...]\n",
    "            subconnections = subconnections[..., labels[1]]\n",
    "            mean_connection_strength.append(np.mean(subconnections))\n",
    "        \n",
    "        # Setting group variable\n",
    "        group = 'ZDHHC9' if re.search('z', subject) else 'control'\n",
    "        \n",
    "        d.append({'ID': subject,\n",
    "                  'group': group,\n",
    "                 'threshold': threshold,\n",
    "                 'subcortical': mean_connection_strength[0],\n",
    "                 'lh': mean_connection_strength[1],\n",
    "                 'rh': mean_connection_strength[2],\n",
    "                 'interhemispheric':mean_connection_strength[3]})\n",
    "        \n",
    "df = pd.DataFrame(d)"
   ]
  },
  {
   "cell_type": "code",
   "execution_count": 44,
   "metadata": {
    "collapsed": false
   },
   "outputs": [
    {
     "data": {
      "text/plain": [
       "<matplotlib.figure.Figure at 0x7fc571146e50>"
      ]
     },
     "metadata": {},
     "output_type": "display_data"
    },
    {
     "name": "stderr",
     "output_type": "stream",
     "text": [
      "/imaging/local/software/anaconda/2.4.1/2/lib/python2.7/site-packages/matplotlib/figure.py:1718: UserWarning: This figure includes Axes that are not compatible with tight_layout, so its results might be incorrect.\n",
      "  warnings.warn(\"This figure includes Axes that are not \"\n"
     ]
    },
    {
     "data": {
      "image/png": "[encoded data removed]",
      "text/plain": [
       "<matplotlib.figure.Figure at 0x7fc571111610>"
      ]
     },
     "metadata": {},
     "output_type": "display_data"
    }
   ],
   "source": [
    "fig = plt.figure(figsize=(single_column, single_column), dpi=600)\n",
    "fig,axs = plt.subplots(2,2, sharex=True, sharey=True)\n",
    "ordering = [[1,0],[0,0], [0,1], [1,1]]\n",
    "titles = ['subcortical', 'left hemisphere', 'right hemisphere', 'interhemispheric']\n",
    "counter = 0\n",
    "\n",
    "for measure in ['subcortical', 'lh', 'rh', 'interhemispheric']:\n",
    "    for group in ['control', 'ZDHHC9']:\n",
    "\n",
    "        copy_df = df.copy()\n",
    "        copy_df = copy_df[df['group'] == group]\n",
    "        median = copy_df.groupby('threshold').median()[measure].values\n",
    "        mad = copy_df.groupby('threshold').agg(robust.mad)[measure].values\n",
    "        colour = '#56B4E9' if group == 'control' else '#D55E00'\n",
    "        marker = 'o' if measure == 'clustering_coefficient' else 'D'\n",
    "        \n",
    "        axs[ordering[counter][0], ordering[counter][1]].errorbar(x = threshold_range,\n",
    "                     y = median,\n",
    "                     yerr = mad,\n",
    "                     marker = marker,\n",
    "                     markersize = 2,\n",
    "                     color=colour,\n",
    "                     linestyle='solid',\n",
    "                     linewidth=1)\n",
    "        axs[ordering[counter][0], ordering[counter][1]].set_title(titles[counter])\n",
    "    counter += 1\n",
    "\n",
    "    if measure == 'subcortical':\n",
    "        plt.legend(['control', r'\\textit{ZDHHC9}'], loc='best')\n",
    "        plt.xlabel('streamline threshold')\n",
    "        plt.ylabel('mean node strength')\n",
    "        \n",
    "plt.savefig(outfolder + '/regional_node_strength.png', dpi=600)\n",
    "plt.show()"
   ]
  },
  {
   "cell_type": "code",
   "execution_count": 45,
   "metadata": {
    "collapsed": false
   },
   "outputs": [
    {
     "name": "stdout",
     "output_type": "stream",
     "text": [
      "subcortical\n",
      "\n",
      "ZDHHC9 AUC: mean=0.08; SE=0.011\n",
      "ZDHHC9 AUC: median=0.07; mad=0.033\n",
      "control AUC: mean=0.18; SE=0.018\n",
      "control AUC: median=0.18; mad=0.062\n",
      "Wilcoxon: W=0.0; p=0.018\n",
      "Paired t-test: t(6)=5.32; p=0.002 corrected-p=0.007\n",
      "\n",
      "lh\n",
      "\n",
      "ZDHHC9 AUC: mean=0.19; SE=0.012\n",
      "ZDHHC9 AUC: median=0.18; mad=0.034\n",
      "control AUC: mean=0.33; SE=0.012\n",
      "control AUC: median=0.31; mad=0.014\n",
      "Wilcoxon: W=0.0; p=0.018\n",
      "Paired t-test: t(6)=11.68; p=0.0 corrected-p=0.0\n",
      "\n",
      "rh\n",
      "\n",
      "ZDHHC9 AUC: mean=0.16; SE=0.01\n",
      "ZDHHC9 AUC: median=0.18; mad=0.015\n",
      "control AUC: mean=0.3; SE=0.022\n",
      "control AUC: median=0.31; mad=0.094\n",
      "Wilcoxon: W=0.0; p=0.018\n",
      "Paired t-test: t(6)=7.02; p=0.0 corrected-p=0.002\n",
      "\n",
      "interhemispheric\n",
      "\n",
      "ZDHHC9 AUC: mean=0.01; SE=0.004\n",
      "ZDHHC9 AUC: median=0.01; mad=0.008\n",
      "control AUC: mean=0.06; SE=0.005\n",
      "control AUC: median=0.06; mad=0.012\n",
      "Wilcoxon: W=0.0; p=0.018\n",
      "Paired t-test: t(6)=8.76; p=0.0 corrected-p=0.0\n",
      "\n"
     ]
    },
    {
     "name": "stderr",
     "output_type": "stream",
     "text": [
      "/home/jb07/python_modules/scipy/stats/morestats.py:2388: UserWarning: Warning: sample size too small for normal approximation.\n",
      "  warnings.warn(\"Warning: sample size too small for normal approximation.\")\n"
     ]
    }
   ],
   "source": [
    "for measure in ['subcortical', 'lh', 'rh', 'interhemispheric']:\n",
    "    control_area = [np.cumsum(df[df['ID'] == subject][measure].values)[-1] for subject in subject_list if re.search('c', subject)]\n",
    "    ZDHHC9_area = [np.cumsum(df[df['ID'] == subject][measure].values)[-1] for subject in subject_list if re.search('z', subject)]\n",
    "    print measure + '\\n'\n",
    "    print('ZDHHC9 AUC: mean=' + str(round(np.mean(ZDHHC9_area), 2)) +\n",
    "         '; SE=' + str(round(sem(ZDHHC9_area), 3)))\n",
    "    print('ZDHHC9 AUC: median=' + str(round(np.median(ZDHHC9_area), 2)) +\n",
    "         '; mad=' + str(round(robust.mad(ZDHHC9_area), 3)))\n",
    "    print('control AUC: mean=' + str(round(np.mean(control_area), 2)) +\n",
    "         '; SE=' + str(round(sem(control_area), 3)))\n",
    "    print('control AUC: median=' + str(round(np.median(control_area), 2)) +\n",
    "         '; mad=' + str(round(robust.mad(control_area), 3)))\n",
    "    print('Wilcoxon: W=' + \n",
    "    str(wilcoxon(control_area, ZDHHC9_area)[0]) + '; p=' +\n",
    "    str(round(wilcoxon(control_area, ZDHHC9_area)[1], 3)))\n",
    "    print('Paired t-test: t(' + str(len(control_area) -1) + ')=' + \n",
    "    str(round(ttest_rel(control_area, ZDHHC9_area)[0], 2)) + '; p=' +\n",
    "    str(round(ttest_rel(control_area, ZDHHC9_area)[1], 3)) + ' corrected-p=' + \n",
    "    str(round(4*ttest_rel(control_area, ZDHHC9_area)[1], 3)) + '\\n')"
   ]
  },
  {
   "cell_type": "markdown",
   "metadata": {},
   "source": [
    "Creating a $Latex$ version of the table"
   ]
  },
  {
   "cell_type": "code",
   "execution_count": 53,
   "metadata": {
    "collapsed": false,
    "scrolled": false
   },
   "outputs": [
    {
     "name": "stdout",
     "output_type": "stream",
     "text": [
      "\\begin{tabular}{lrrrrrrrrrrr}\n",
      "\\toprule\n",
      "          measure &  ZDHHC9\\_mean &  ZDHHC9\\_SE &  ZDHHC9\\_W &  ZDHHC9\\_p &  control\\_mean &  control\\_SE &  control\\_W &  control\\_p &  ttest stat &  ttest p &  ttest corrp \\\\\n",
      "\\midrule\n",
      "      subcortical &         0.08 &      0.011 &      0.97 &      0.92 &          0.18 &       0.018 &       0.93 &       0.54 &        5.32 &    0.002 &        0.007 \\\\\n",
      "               lh &         0.19 &      0.012 &      0.98 &      0.95 &          0.33 &       0.012 &       0.82 &       0.07 &       11.68 &    0.000 &        0.000 \\\\\n",
      "               rh &         0.16 &      0.010 &      0.82 &      0.06 &          0.30 &       0.022 &       0.90 &       0.36 &        7.02 &    0.000 &        0.002 \\\\\n",
      " interhemispheric &         0.01 &      0.004 &      0.84 &      0.11 &          0.06 &       0.005 &       0.91 &       0.38 &        8.76 &    0.000 &        0.000 \\\\\n",
      "\\bottomrule\n",
      "\\end{tabular}\n",
      "\n"
     ]
    }
   ],
   "source": [
    "d = []\n",
    "for measure in ['subcortical', 'lh', 'rh', 'interhemispheric']:\n",
    "    control_area = [np.cumsum(df[df['ID'] == subject][measure].values)[-1] for subject in subject_list if re.search('c', subject)]\n",
    "    ZDHHC9_area = [np.cumsum(df[df['ID'] == subject][measure].values)[-1] for subject in subject_list if re.search('z', subject)]\n",
    "\n",
    "    d.append({\n",
    "    'measure': measure,\n",
    "    'ZDHHC9_mean': round(np.mean(ZDHHC9_area), 2),\n",
    "    'ZDHHC9_SE': round(sem(ZDHHC9_area), 3),\n",
    "    'ZDHHC9_W': round(shapiro(ZDHHC9_area)[0], 2), \n",
    "    'ZDHHC9_p': round(shapiro(ZDHHC9_area)[1], 2),\n",
    "    'control_mean': round(np.mean(control_area), 2),\n",
    "    'control_SE': round(sem(control_area), 3),\n",
    "    'control_W': round(shapiro(control_area)[0], 2), \n",
    "    'control_p': round(shapiro(control_area)[1], 2), \n",
    "    'ttest stat': round(ttest_rel(control_area, ZDHHC9_area)[0], 2),\n",
    "    'ttest p': round(ttest_rel(control_area, ZDHHC9_area)[1], 3),\n",
    "    'ttest corrp': round(4*ttest_rel(control_area, ZDHHC9_area)[1], 3)\n",
    "    })\n",
    "    \n",
    "result_df = pd.DataFrame(d)\n",
    "print(result_df[['measure', 'ZDHHC9_mean', 'ZDHHC9_SE', 'ZDHHC9_W', 'ZDHHC9_p', 'control_mean', 'control_SE', 'control_W', 'control_p', 'ttest stat', 'ttest p', 'ttest corrp']].to_latex(index=False))"
   ]
  },
  {
   "cell_type": "markdown",
   "metadata": {},
   "source": [
    "## Graph theory analysis"
   ]
  },
  {
   "cell_type": "markdown",
   "metadata": {},
   "source": [
    "Correlation of graph metrics"
   ]
  },
  {
   "cell_type": "code",
   "execution_count": 171,
   "metadata": {
    "collapsed": true
   },
   "outputs": [],
   "source": [
    "d = []\n",
    "\n",
    "for subject in subject_list:\n",
    "    network = load_data(folder, 'CSD', str(threshold), '_FA', subject)\n",
    "    network[np.isnan(network)] = 0 # removing NaN\n",
    "\n",
    "    # Calculating graph metrics\n",
    "    d.append({'subject': subject,\n",
    "             'degree': np.mean(bct.degrees_und(network)),\n",
    "             'strength': np.mean(bct.strengths_und(network)),\n",
    "             'clustering_coefficient': np.mean(bct.clustering_coef_wu(network)),\n",
    "             'global_efficiency': np.mean(bct.charpath(bct.distance_wei(bct.weight_conversion(network, 'lengths'))[0])[1])})"
   ]
  },
  {
   "cell_type": "code",
   "execution_count": 181,
   "metadata": {
    "collapsed": false,
    "scrolled": true
   },
   "outputs": [
    {
     "name": "stdout",
     "output_type": "stream",
     "text": [
      "\\begin{tabular}{lrrrr}\n",
      "\\toprule\n",
      "{} &  degree &  strength &  clustering\\_coefficient &  global\\_efficiency \\\\\n",
      "\\midrule\n",
      "degree                 &    1.00 &      0.99 &                    0.86 &               0.96 \\\\\n",
      "strength               &    0.99 &      1.00 &                    0.89 &               0.98 \\\\\n",
      "clustering\\_coefficient &    0.86 &      0.89 &                    1.00 &               0.94 \\\\\n",
      "global\\_efficiency      &    0.96 &      0.98 &                    0.94 &               1.00 \\\\\n",
      "\\bottomrule\n",
      "\\end{tabular}\n",
      "\n"
     ]
    }
   ],
   "source": [
    "print(pd.DataFrame(d)[['degree', 'strength', 'clustering_coefficient', 'global_efficiency']].corr().round(2).to_latex())"
   ]
  },
  {
   "cell_type": "markdown",
   "metadata": {},
   "source": [
    "### 1. Mean node degree & strength"
   ]
  },
  {
   "cell_type": "markdown",
   "metadata": {},
   "source": [
    "Because the node degree has a large influence on all other graph measures, differences in mean node degree are investigated first. The following section calculates the average node degree in the network for participants in the *ZDHHC9* and control group over a range of streamline thresholds. The groups are compared on the area under the curve of mean node degree across thresholds. "
   ]
  },
  {
   "cell_type": "code",
   "execution_count": 54,
   "metadata": {
    "collapsed": false
   },
   "outputs": [],
   "source": [
    "threshold_range = np.arange(0,100,10)\n",
    "d = []\n",
    "\n",
    "for threshold in threshold_range:\n",
    "    for subject in subject_list:\n",
    "        network = load_data(folder, 'CSD', str(threshold), '_FA', subject)\n",
    "        network[np.isnan(network)] = 0 # removing NaN\n",
    "        \n",
    "        # Calculating graph metrics\n",
    "        mean_degree = np.mean(bct.degrees_und(network))\n",
    "        mean_strength = np.mean(bct.strengths_und(network))\n",
    "        \n",
    "        # Setting group variable\n",
    "        group = 'ZDHHC9' if re.search('z', subject) else 'control'\n",
    "\n",
    "        # Collecting the data\n",
    "        d.append({'ID':subject, \n",
    "                  'threshold': threshold,\n",
    "                  'group': group,\n",
    "                  'mean_degree': mean_degree,\n",
    "                  'mean_strength': mean_strength})\n",
    "        \n",
    "df = pd.DataFrame(d)"
   ]
  },
  {
   "cell_type": "code",
   "execution_count": 55,
   "metadata": {
    "collapsed": false
   },
   "outputs": [
    {
     "name": "stdout",
     "output_type": "stream",
     "text": [
      "mean_degree\n",
      "\n",
      "ZDHHC9 AUC: mean=22.23; SE=0.921\n",
      "ZDHHC9 AUC: median=21.98; mad=2.163\n",
      "control AUC: mean=33.18; SE=1.056\n",
      "control AUC: median=32.94; mad=3.384\n",
      "Wilcoxon: W=0.0; p=0.018\n",
      "Paired t-test: t(6)=10.14; p=0.0 corrected-p=0.0\n",
      "\n",
      "mean_strength\n",
      "\n",
      "ZDHHC9 AUC: mean=9.57; SE=0.487\n",
      "ZDHHC9 AUC: median=9.86; mad=1.648\n",
      "control AUC: mean=16.34; SE=0.645\n",
      "control AUC: median=15.64; mad=1.785\n",
      "Wilcoxon: W=0.0; p=0.018\n",
      "Paired t-test: t(6)=13.08; p=0.0 corrected-p=0.0\n",
      "\n"
     ]
    }
   ],
   "source": [
    "for measure in ['mean_degree', 'mean_strength']:\n",
    "    control_area = [np.cumsum(df[df['ID'] == subject][measure].values)[-1] for subject in subject_list if re.search('c', subject)]\n",
    "    ZDHHC9_area = [np.cumsum(df[df['ID'] == subject][measure].values)[-1] for subject in subject_list if re.search('z', subject)]\n",
    "    print measure + '\\n'\n",
    "    print('ZDHHC9 AUC: mean=' + str(round(np.mean(ZDHHC9_area), 2)) +\n",
    "         '; SE=' + str(round(sem(ZDHHC9_area), 3)))\n",
    "    print('ZDHHC9 AUC: median=' + str(round(np.median(ZDHHC9_area), 2)) +\n",
    "         '; mad=' + str(round(robust.mad(ZDHHC9_area), 3)))\n",
    "    print('control AUC: mean=' + str(round(np.mean(control_area), 2)) +\n",
    "         '; SE=' + str(round(sem(control_area), 3)))\n",
    "    print('control AUC: median=' + str(round(np.median(control_area), 2)) +\n",
    "         '; mad=' + str(round(robust.mad(control_area), 3)))\n",
    "    print('Wilcoxon: W=' + \n",
    "    str(wilcoxon(control_area, ZDHHC9_area)[0]) + '; p=' +\n",
    "    str(round(wilcoxon(control_area, ZDHHC9_area)[1], 3)))\n",
    "    print('Paired t-test: t(' + str(len(control_area) -1) + ')=' + \n",
    "    str(round(ttest_rel(control_area, ZDHHC9_area)[0], 2)) + '; p=' +\n",
    "    str(round(ttest_rel(control_area, ZDHHC9_area)[1], 3)) + ' corrected-p=' + \n",
    "    str(round(4*ttest_rel(control_area, ZDHHC9_area)[1], 3)) + '\\n')"
   ]
  },
  {
   "cell_type": "code",
   "execution_count": 56,
   "metadata": {
    "collapsed": false
   },
   "outputs": [
    {
     "name": "stdout",
     "output_type": "stream",
     "text": [
      "\\begin{tabular}{lrrrrrrrrrrr}\n",
      "\\toprule\n",
      "       measure &  ZDHHC9\\_mean &  ZDHHC9\\_SE &  ZDHHC9\\_W &  ZDHHC9\\_p &  control\\_mean &  control\\_SE &  control\\_W &  control\\_p &  ttest stat &  ttest p &  ttest corrp \\\\\n",
      "\\midrule\n",
      "   mean\\_degree &        22.23 &      0.921 &      0.96 &      0.85 &         33.18 &       1.056 &        0.9 &       0.34 &       10.14 &        0 &            0 \\\\\n",
      " mean\\_strength &         9.57 &      0.487 &      0.97 &      0.86 &         16.34 &       0.645 &        0.9 &       0.31 &       13.08 &        0 &            0 \\\\\n",
      "\\bottomrule\n",
      "\\end{tabular}\n",
      "\n"
     ]
    }
   ],
   "source": [
    "d = []\n",
    "for measure in ['mean_degree', 'mean_strength']:\n",
    "    control_area = [np.cumsum(df[df['ID'] == subject][measure].values)[-1] for subject in subject_list if re.search('c', subject)]\n",
    "    ZDHHC9_area = [np.cumsum(df[df['ID'] == subject][measure].values)[-1] for subject in subject_list if re.search('z', subject)]\n",
    "\n",
    "    d.append({\n",
    "    'measure': measure,\n",
    "    'ZDHHC9_mean': round(np.mean(ZDHHC9_area), 2),\n",
    "    'ZDHHC9_SE': round(sem(ZDHHC9_area), 3),\n",
    "    'ZDHHC9_W': round(shapiro(ZDHHC9_area)[0], 2), \n",
    "    'ZDHHC9_p': round(shapiro(ZDHHC9_area)[1], 2),\n",
    "    'control_mean': round(np.mean(control_area), 2),\n",
    "    'control_SE': round(sem(control_area), 3),\n",
    "    'control_W': round(shapiro(control_area)[0], 2), \n",
    "    'control_p': round(shapiro(control_area)[1], 2), \n",
    "    'ttest stat': round(ttest_rel(control_area, ZDHHC9_area)[0], 2),\n",
    "    'ttest p': round(ttest_rel(control_area, ZDHHC9_area)[1], 3),\n",
    "    'ttest corrp': round(4*ttest_rel(control_area, ZDHHC9_area)[1], 3)\n",
    "    })\n",
    "    \n",
    "result_df = pd.DataFrame(d)\n",
    "print(result_df[['measure', 'ZDHHC9_mean', 'ZDHHC9_SE', 'ZDHHC9_W', 'ZDHHC9_p', 'control_mean', 'control_SE', 'control_W', 'control_p', 'ttest stat', 'ttest p', 'ttest corrp']].to_latex(index=False))"
   ]
  },
  {
   "cell_type": "code",
   "execution_count": 59,
   "metadata": {
    "collapsed": false
   },
   "outputs": [
    {
     "data": {
      "image/png": "[encoded data removed]",
      "text/plain": [
       "<matplotlib.figure.Figure at 0x7fc5713d67d0>"
      ]
     },
     "metadata": {},
     "output_type": "display_data"
    },
    {
     "data": {
      "image/png": "[encoded data removed]",
      "text/plain": [
       "<matplotlib.figure.Figure at 0x7fc5710137d0>"
      ]
     },
     "metadata": {},
     "output_type": "display_data"
    }
   ],
   "source": [
    "labels = ['mean node degree', 'mean node strength']\n",
    "counter = 0\n",
    "\n",
    "for measure in ['mean_degree','mean_strength']:\n",
    "    fig = plt.figure(figsize=(single_column, single_column), dpi=600)\n",
    "\n",
    "    for group in ['control', 'ZDHHC9']:\n",
    "\n",
    "        copy_df = df.copy()\n",
    "        copy_df = copy_df[df['group'] == group]\n",
    "        median = copy_df.groupby('threshold').median()[measure].values\n",
    "        mad = copy_df.groupby('threshold').agg(robust.mad)[measure].values\n",
    "        colour = '#56B4E9' if group == 'control' else '#D55E00'\n",
    "        marker = 'o' if measure == 'clustering_coefficient' else 'D'\n",
    "\n",
    "        plt.errorbar(x = threshold_range,\n",
    "                     y = median,\n",
    "                     yerr = mad,\n",
    "                     marker = marker,\n",
    "                     markersize = 2,\n",
    "                     color=colour,\n",
    "                     linestyle='solid',\n",
    "                     linewidth=1)\n",
    "\n",
    "    if counter == 0:\n",
    "        plt.legend(['control', r'\\textit{ZDHHC9}'], loc='best')\n",
    "        plt.xlabel('streamline threshold')\n",
    "    plt.ylabel(labels[counter])\n",
    "    plt.savefig(outfolder + '/' + labels[counter] + '.png', dpi=600)\n",
    "    plt.show()\n",
    "    counter += 1"
   ]
  },
  {
   "cell_type": "markdown",
   "metadata": {},
   "source": [
    "### 3. Clustering coefficient & Global efficiency\n",
    "The mean node degree analysis indicated significant differences between the groups. Differences in $D_{G}$ may influence other graph measures. Consensus thresholding is applied to equalize the number of connections in both groups"
   ]
  },
  {
   "cell_type": "code",
   "execution_count": 62,
   "metadata": {
    "collapsed": true
   },
   "outputs": [],
   "source": [
    "def consensus_thresholding(in_matrices, percentage_threshold):\n",
    "    # ===============================================================#\n",
    "    # Consensus thresholding of connectivity matrices \n",
    "    # for method see: http://www.ncbi.nlm.nih.gov/pubmed/23296185\n",
    "    # ===============================================================#\n",
    "    \"\"\"\n",
    "    inputs:\n",
    "    in_matrices: numpy array with connectivity matrices (dimensions: ROIs x ROIs x participants)\n",
    "    percentage_threshold: ratio of connections to be retained, e.g. 0.6\n",
    "\n",
    "    outputs:\n",
    "    matrices only retained connections that occured in the percentage threshold of participants\n",
    "    \"\"\"\n",
    "\n",
    "    import bct\n",
    "    import numpy as np\n",
    "    \n",
    "    connection_consensus = np.sum(np.asarray(in_matrices > 0), 2).astype('float64')/in_matrices.shape[2]\n",
    "    connection_consensus = bct.binarize(bct.threshold_absolute(W=connection_consensus, thr=percentage_threshold))\n",
    "    consensus_matrices = in_matrices * np.reshape(np.repeat(connection_consensus,in_matrices.shape[2]), newshape=in_matrices.shape)\n",
    "    \n",
    "    return consensus_matrices"
   ]
  },
  {
   "cell_type": "code",
   "execution_count": 63,
   "metadata": {
    "collapsed": false,
    "scrolled": true
   },
   "outputs": [],
   "source": [
    "d = []\n",
    "\n",
    "for threshold in np.arange(0,100,10):\n",
    "    \n",
    "    # Consensus thresholding to equalise the graph density between groups\n",
    "    networks = np.rollaxis(np.asarray([load_data(folder, 'CSD', str(threshold), '_FA', subject) for subject in subject_list]), 0, 3)\n",
    "    networks_before = networks.copy()\n",
    "    networks = consensus_thresholding(networks, 1)\n",
    "    \n",
    "    # Calculating graph measures in the matched networks\n",
    "    for i in range(0,len(subject_list)):\n",
    "        subject = subject_list[i]\n",
    "\n",
    "        # Calculating graph metrics\n",
    "        mean_degree = np.mean(bct.degrees_und(networks[...,i]))\n",
    "        clustering_coefficient = np.mean(bct.clustering_coef_wu(networks[...,i]))\n",
    "        global_efficiency = bct.charpath(bct.distance_wei(bct.weight_conversion(networks[...,i], 'lengths'))[0])[1]\n",
    "        clustering_coefficient_before = np.mean(bct.clustering_coef_wu(networks_before[...,i]))\n",
    "        global_efficiency_before = bct.charpath(bct.distance_wei(bct.weight_conversion(networks_before[...,i], 'lengths'))[0])[1]\n",
    "        \n",
    "        # Setting group variable\n",
    "        group = 'ZDHHC9' if re.search('z', subject) else 'control'\n",
    "\n",
    "        # Collecting the data\n",
    "        d.append({'ID':subject, \n",
    "                  'group': group,\n",
    "                  'threshold': threshold,\n",
    "                  'mean_degree': mean_degree,\n",
    "                  'clustering_coefficient_before': clustering_coefficient_before,\n",
    "                  'clustering_coefficient': clustering_coefficient,\n",
    "                  'global_efficiency_before': global_efficiency_before,\n",
    "                  'global_efficiency': global_efficiency})\n",
    "\n",
    "df = pd.DataFrame(d)"
   ]
  },
  {
   "cell_type": "code",
   "execution_count": 64,
   "metadata": {
    "collapsed": false
   },
   "outputs": [
    {
     "data": {
      "image/png": "[encoded data removed]",
      "text/plain": [
       "<matplotlib.figure.Figure at 0x7fc57514fd10>"
      ]
     },
     "metadata": {},
     "output_type": "display_data"
    }
   ],
   "source": [
    "labels = ['global clustering coefficient', 'global efficiency']\n",
    "counter = 0\n",
    "\n",
    "fig = plt.figure(figsize=(single_column, single_column), dpi=600)\n",
    "\n",
    "#for measure in ['clustering_coefficient', 'clustering_coefficient_before']:\n",
    "for measure in ['global_efficiency', 'global_efficiency_before']:\n",
    "\n",
    "    for group in ['control', 'ZDHHC9']:\n",
    "\n",
    "        copy_df = df.copy()\n",
    "        copy_df = copy_df[df['group'] == group]\n",
    "        median = copy_df.groupby('threshold').median()[measure].values\n",
    "        mad = copy_df.groupby('threshold').agg(robust.mad)[measure].values\n",
    "        colour = '#56B4E9' if group == 'control' else '#D55E00'\n",
    "        marker = 'o' if measure == 'clustering_coefficient' else 'D'\n",
    "        linetype = 'dashed' if counter == 1 else 'solid'\n",
    "        \n",
    "        plt.errorbar(x = threshold_range,\n",
    "                     y = median,\n",
    "                     yerr = mad,\n",
    "                     marker = marker,\n",
    "                     markersize = 2,\n",
    "                     color=colour,\n",
    "                     linestyle=linetype,\n",
    "                     linewidth=1)\n",
    "        counter += 1\n",
    "        \n",
    "plt.xlabel('streamline threshold')\n",
    "plt.ylabel(labels[1])\n",
    "plt.savefig(outfolder + labels[1] + '.png', dpi=600)\n",
    "plt.show()"
   ]
  },
  {
   "cell_type": "code",
   "execution_count": 65,
   "metadata": {
    "collapsed": false
   },
   "outputs": [
    {
     "name": "stdout",
     "output_type": "stream",
     "text": [
      "clustering_coefficient\n",
      "\n",
      "ZDHHC9 AUC: mean=0.2; SE=0.003\n",
      "ZDHHC9 AUC: median=0.2; mad=0.007\n",
      "control AUC: mean=0.21; SE=0.003\n",
      "control AUC: median=0.21; mad=0.006\n",
      "Wilcoxon: W=0.0; p=0.018\n",
      "Paired t-test: t(6)=5.91; p=0.001 corrected-p=0.004\n",
      "\n",
      "global_efficiency\n",
      "\n",
      "ZDHHC9 AUC: mean=0.18; SE=0.003\n",
      "ZDHHC9 AUC: median=0.18; mad=0.005\n",
      "control AUC: mean=0.2; SE=0.002\n",
      "control AUC: median=0.2; mad=0.009\n",
      "Wilcoxon: W=0.0; p=0.018\n",
      "Paired t-test: t(6)=5.81; p=0.001 corrected-p=0.005\n",
      "\n"
     ]
    }
   ],
   "source": [
    "for measure in ['clustering_coefficient', 'global_efficiency']:\n",
    "    control_area = [np.cumsum(df[df['ID'] == subject][measure].values)[-1] for subject in subject_list if re.search('c', subject)]\n",
    "    ZDHHC9_area = [np.cumsum(df[df['ID'] == subject][measure].values)[-1] for subject in subject_list if re.search('z', subject)]\n",
    "    print measure + '\\n'\n",
    "    print('ZDHHC9 AUC: mean=' + str(round(np.mean(ZDHHC9_area), 2)) +\n",
    "         '; SE=' + str(round(sem(ZDHHC9_area), 3)))\n",
    "    print('ZDHHC9 AUC: median=' + str(round(np.median(ZDHHC9_area), 2)) +\n",
    "         '; mad=' + str(round(robust.mad(ZDHHC9_area), 3)))\n",
    "    print('control AUC: mean=' + str(round(np.mean(control_area), 2)) +\n",
    "         '; SE=' + str(round(sem(control_area), 3)))\n",
    "    print('control AUC: median=' + str(round(np.median(control_area), 2)) +\n",
    "         '; mad=' + str(round(robust.mad(control_area), 3)))\n",
    "    print('Wilcoxon: W=' + \n",
    "    str(wilcoxon(control_area, ZDHHC9_area)[0]) + '; p=' +\n",
    "    str(round(wilcoxon(control_area, ZDHHC9_area)[1], 3)))\n",
    "    print('Paired t-test: t(' + str(len(control_area) -1) + ')=' + \n",
    "    str(round(ttest_rel(control_area, ZDHHC9_area)[0], 2)) + '; p=' +\n",
    "    str(round(ttest_rel(control_area, ZDHHC9_area)[1], 3)) + ' corrected-p=' + \n",
    "    str(round(4*ttest_rel(control_area, ZDHHC9_area)[1], 3)) + '\\n')"
   ]
  },
  {
   "cell_type": "code",
   "execution_count": 66,
   "metadata": {
    "collapsed": false
   },
   "outputs": [
    {
     "name": "stdout",
     "output_type": "stream",
     "text": [
      "\\begin{tabular}{lrrrrrrrrrrr}\n",
      "\\toprule\n",
      "                measure &  ZDHHC9\\_mean &  ZDHHC9\\_SE &  ZDHHC9\\_W &  ZDHHC9\\_p &  control\\_mean &  control\\_SE &  control\\_W &  control\\_p &  ttest stat &  ttest p &  ttest corrp \\\\\n",
      "\\midrule\n",
      " clustering\\_coefficient &         0.20 &      0.003 &      0.90 &      0.34 &          0.21 &       0.003 &       0.95 &       0.75 &        5.91 &    0.001 &        0.004 \\\\\n",
      "      global\\_efficiency &         0.18 &      0.003 &      0.85 &      0.12 &          0.20 &       0.002 &       0.90 &       0.32 &        5.81 &    0.001 &        0.005 \\\\\n",
      "\\bottomrule\n",
      "\\end{tabular}\n",
      "\n"
     ]
    }
   ],
   "source": [
    "d = []\n",
    "for measure in ['clustering_coefficient', 'global_efficiency']:\n",
    "    control_area = [np.cumsum(df[df['ID'] == subject][measure].values)[-1] for subject in subject_list if re.search('c', subject)]\n",
    "    ZDHHC9_area = [np.cumsum(df[df['ID'] == subject][measure].values)[-1] for subject in subject_list if re.search('z', subject)]\n",
    "\n",
    "    d.append({\n",
    "    'measure': measure,\n",
    "    'ZDHHC9_mean': round(np.mean(ZDHHC9_area), 2),\n",
    "    'ZDHHC9_SE': round(sem(ZDHHC9_area), 3),\n",
    "    'ZDHHC9_W': round(shapiro(ZDHHC9_area)[0], 2), \n",
    "    'ZDHHC9_p': round(shapiro(ZDHHC9_area)[1], 2),\n",
    "    'control_mean': round(np.mean(control_area), 2),\n",
    "    'control_SE': round(sem(control_area), 3),\n",
    "    'control_W': round(shapiro(control_area)[0], 2), \n",
    "    'control_p': round(shapiro(control_area)[1], 2), \n",
    "    'ttest stat': round(ttest_rel(control_area, ZDHHC9_area)[0], 2),\n",
    "    'ttest p': round(ttest_rel(control_area, ZDHHC9_area)[1], 3),\n",
    "    'ttest corrp': round(4*ttest_rel(control_area, ZDHHC9_area)[1], 3)\n",
    "    })\n",
    "    \n",
    "result_df = pd.DataFrame(d)\n",
    "print(result_df[['measure', 'ZDHHC9_mean', 'ZDHHC9_SE', 'ZDHHC9_W', 'ZDHHC9_p', 'control_mean', 'control_SE', 'control_W', 'control_p', 'ttest stat', 'ttest p', 'ttest corrp']].to_latex(index=False))"
   ]
  },
  {
   "cell_type": "markdown",
   "metadata": {},
   "source": [
    "## Comparison of topographic variation in graph metrics"
   ]
  },
  {
   "cell_type": "code",
   "execution_count": 141,
   "metadata": {
    "collapsed": true
   },
   "outputs": [],
   "source": [
    "from statsmodels.sandbox.stats.multicomp import multipletests"
   ]
  },
  {
   "cell_type": "code",
   "execution_count": 142,
   "metadata": {
    "collapsed": false,
    "scrolled": true
   },
   "outputs": [
    {
     "name": "stderr",
     "output_type": "stream",
     "text": [
      "/home/jb07/python_modules/ipykernel/__main__.py:55: VisibleDeprecationWarning: converting an array with ndim > 0 to an index will result in an error in the future\n"
     ]
    },
    {
     "ename": "KeyboardInterrupt",
     "evalue": "",
     "output_type": "error",
     "traceback": [
      "\u001b[1;31m---------------------------------------------------------------------------\u001b[0m",
      "\u001b[1;31mKeyboardInterrupt\u001b[0m                         Traceback (most recent call last)",
      "\u001b[1;32m<ipython-input-142-048ea8a4ad48>\u001b[0m in \u001b[0;36m<module>\u001b[1;34m()\u001b[0m\n\u001b[0;32m     19\u001b[0m                 \u001b[0mnewdata\u001b[0m \u001b[1;33m=\u001b[0m \u001b[0mnewdata\u001b[0m\u001b[1;33m[\u001b[0m\u001b[1;33m:\u001b[0m\u001b[1;33m,\u001b[0m \u001b[0mbct\u001b[0m\u001b[1;33m.\u001b[0m\u001b[0mget_components\u001b[0m\u001b[1;33m(\u001b[0m\u001b[0mnetwork\u001b[0m\u001b[1;33m,\u001b[0m \u001b[0mno_depend\u001b[0m\u001b[1;33m=\u001b[0m\u001b[0mTrue\u001b[0m\u001b[1;33m)\u001b[0m\u001b[1;33m[\u001b[0m\u001b[1;36m0\u001b[0m\u001b[1;33m]\u001b[0m \u001b[1;33m==\u001b[0m \u001b[1;36m1\u001b[0m\u001b[1;33m]\u001b[0m\u001b[1;33m\u001b[0m\u001b[0m\n\u001b[0;32m     20\u001b[0m                 \u001b[0meccentricity\u001b[0m \u001b[1;33m=\u001b[0m \u001b[0mnp\u001b[0m\u001b[1;33m.\u001b[0m\u001b[0mzeros\u001b[0m\u001b[1;33m(\u001b[0m\u001b[0mlen\u001b[0m\u001b[1;33m(\u001b[0m\u001b[0mnetwork\u001b[0m\u001b[1;33m)\u001b[0m\u001b[1;33m)\u001b[0m\u001b[1;33m\u001b[0m\u001b[0m\n\u001b[1;32m---> 21\u001b[1;33m                 \u001b[0meccentricity\u001b[0m\u001b[1;33m[\u001b[0m\u001b[0mbct\u001b[0m\u001b[1;33m.\u001b[0m\u001b[0mget_components\u001b[0m\u001b[1;33m(\u001b[0m\u001b[0mnetwork\u001b[0m\u001b[1;33m,\u001b[0m \u001b[0mno_depend\u001b[0m\u001b[1;33m=\u001b[0m\u001b[0mTrue\u001b[0m\u001b[1;33m)\u001b[0m\u001b[1;33m[\u001b[0m\u001b[1;36m0\u001b[0m\u001b[1;33m]\u001b[0m \u001b[1;33m==\u001b[0m \u001b[1;36m1\u001b[0m\u001b[1;33m]\u001b[0m \u001b[1;33m=\u001b[0m \u001b[0mbct\u001b[0m\u001b[1;33m.\u001b[0m\u001b[0mcharpath\u001b[0m\u001b[1;33m(\u001b[0m\u001b[0mbct\u001b[0m\u001b[1;33m.\u001b[0m\u001b[0mdistance_wei\u001b[0m\u001b[1;33m(\u001b[0m\u001b[0mbct\u001b[0m\u001b[1;33m.\u001b[0m\u001b[0mweight_conversion\u001b[0m\u001b[1;33m(\u001b[0m\u001b[0mnewdata\u001b[0m\u001b[1;33m,\u001b[0m \u001b[1;34m'lengths'\u001b[0m\u001b[1;33m)\u001b[0m\u001b[1;33m)\u001b[0m\u001b[1;33m[\u001b[0m\u001b[1;36m0\u001b[0m\u001b[1;33m]\u001b[0m\u001b[1;33m)\u001b[0m\u001b[1;33m[\u001b[0m\u001b[1;36m2\u001b[0m\u001b[1;33m]\u001b[0m\u001b[1;33m\u001b[0m\u001b[0m\n\u001b[0m\u001b[0;32m     22\u001b[0m                 \u001b[0mgraph_metrics\u001b[0m\u001b[1;33m.\u001b[0m\u001b[0mappend\u001b[0m\u001b[1;33m(\u001b[0m\u001b[0meccentricity\u001b[0m\u001b[1;33m)\u001b[0m\u001b[1;33m\u001b[0m\u001b[0m\n\u001b[0;32m     23\u001b[0m \u001b[1;33m\u001b[0m\u001b[0m\n",
      "\u001b[1;32m/home/jb07/python_modules/bct/bct.pyc\u001b[0m in \u001b[0;36mdistance_wei\u001b[1;34m(G)\u001b[0m\n\u001b[0;32m   1722\u001b[0m                                 \u001b[0mW\u001b[0m\u001b[1;33m,\u001b[0m\u001b[1;33m=\u001b[0m\u001b[0mnp\u001b[0m\u001b[1;33m.\u001b[0m\u001b[0mwhere\u001b[0m\u001b[1;33m(\u001b[0m\u001b[0mG1\u001b[0m\u001b[1;33m[\u001b[0m\u001b[0mv\u001b[0m\u001b[1;33m,\u001b[0m\u001b[1;33m:\u001b[0m\u001b[1;33m]\u001b[0m\u001b[1;33m)\u001b[0m    \u001b[1;31m#neighbors of shortest nodes\u001b[0m\u001b[1;33m\u001b[0m\u001b[0m\n\u001b[0;32m   1723\u001b[0m \u001b[1;33m\u001b[0m\u001b[0m\n\u001b[1;32m-> 1724\u001b[1;33m                                 \u001b[0mtd\u001b[0m\u001b[1;33m=\u001b[0m\u001b[0mnp\u001b[0m\u001b[1;33m.\u001b[0m\u001b[0marray\u001b[0m\u001b[1;33m(\u001b[0m\u001b[1;33m[\u001b[0m\u001b[0mD\u001b[0m\u001b[1;33m[\u001b[0m\u001b[0mu\u001b[0m\u001b[1;33m,\u001b[0m\u001b[0mW\u001b[0m\u001b[1;33m]\u001b[0m\u001b[1;33m.\u001b[0m\u001b[0mflatten\u001b[0m\u001b[1;33m(\u001b[0m\u001b[1;33m)\u001b[0m\u001b[1;33m,\u001b[0m\u001b[1;33m(\u001b[0m\u001b[0mD\u001b[0m\u001b[1;33m[\u001b[0m\u001b[0mu\u001b[0m\u001b[1;33m,\u001b[0m\u001b[0mv\u001b[0m\u001b[1;33m]\u001b[0m\u001b[1;33m+\u001b[0m\u001b[0mG1\u001b[0m\u001b[1;33m[\u001b[0m\u001b[0mv\u001b[0m\u001b[1;33m,\u001b[0m\u001b[0mW\u001b[0m\u001b[1;33m]\u001b[0m\u001b[1;33m)\u001b[0m\u001b[1;33m.\u001b[0m\u001b[0mflatten\u001b[0m\u001b[1;33m(\u001b[0m\u001b[1;33m)\u001b[0m\u001b[1;33m]\u001b[0m\u001b[1;33m)\u001b[0m\u001b[1;33m\u001b[0m\u001b[0m\n\u001b[0m\u001b[0;32m   1725\u001b[0m                                 \u001b[0md\u001b[0m\u001b[1;33m=\u001b[0m\u001b[0mnp\u001b[0m\u001b[1;33m.\u001b[0m\u001b[0mmin\u001b[0m\u001b[1;33m(\u001b[0m\u001b[0mtd\u001b[0m\u001b[1;33m,\u001b[0m\u001b[0maxis\u001b[0m\u001b[1;33m=\u001b[0m\u001b[1;36m0\u001b[0m\u001b[1;33m)\u001b[0m\u001b[1;33m\u001b[0m\u001b[0m\n\u001b[0;32m   1726\u001b[0m                                 \u001b[0mwi\u001b[0m\u001b[1;33m=\u001b[0m\u001b[0mnp\u001b[0m\u001b[1;33m.\u001b[0m\u001b[0margmin\u001b[0m\u001b[1;33m(\u001b[0m\u001b[0mtd\u001b[0m\u001b[1;33m,\u001b[0m\u001b[0maxis\u001b[0m\u001b[1;33m=\u001b[0m\u001b[1;36m0\u001b[0m\u001b[1;33m)\u001b[0m\u001b[1;33m\u001b[0m\u001b[0m\n",
      "\u001b[1;31mKeyboardInterrupt\u001b[0m: "
     ]
    }
   ],
   "source": [
    "for metric in ['node_degree', 'node_strength', 'clustering_coefficient', 'local_efficiency']:\n",
    "    AUC = list()\n",
    "\n",
    "    for subject in subject_list:\n",
    "        graph_metrics = list()\n",
    "\n",
    "        # Calculating the graph metric across a range of thresholds\n",
    "        for threshold in np.arange(0,100,10):\n",
    "            network = load_data(folder, 'CSD', str(threshold), '_FA', subject)\n",
    "            if metric == 'node_degree':\n",
    "                graph_metrics.append(bct.degrees_und(network))\n",
    "            elif metric == 'node_strength':\n",
    "                graph_metrics.append(bct.strengths_und(network))\n",
    "            elif metric == 'clustering_coefficient':\n",
    "                graph_metrics.append(bct.clustering_coef_wu(network))\n",
    "            elif metric == 'local_efficiency':\n",
    "                # This requires to identify the fully connected subcomponent - otherwise some distances are infinite\n",
    "                newdata = network[bct.get_components(network, no_depend=True)[0] == 1, :] \n",
    "                newdata = newdata[:, bct.get_components(network, no_depend=True)[0] == 1] \n",
    "                eccentricity = np.zeros(len(network))\n",
    "                eccentricity[bct.get_components(network, no_depend=True)[0] == 1] = bct.charpath(bct.distance_wei(bct.weight_conversion(newdata, 'lengths'))[0])[2]\n",
    "                graph_metrics.append(eccentricity)\n",
    "            \n",
    "        # calculating the area under the curve across thresholds\n",
    "        AUC.append(np.cumsum(np.asarray(graph_metrics), axis=0)[-1,:])\n",
    "\n",
    "    AUC = np.asarray(AUC)\n",
    "    \n",
    "    pvals = list()\n",
    "    tvals = list()\n",
    "    ZDHHC9_mean = list()\n",
    "    ZDHHC9_SE = list()\n",
    "    ZDHHC9_W = list()\n",
    "    ZDHHC9_p = list()\n",
    "    control_mean = list()\n",
    "    control_SE = list()\n",
    "    control_W= list()\n",
    "    control_p = list()\n",
    "    \n",
    "    for area in np.arange(0,AUC.shape[1]):\n",
    "        tvals.append(ttest_rel(AUC[0:7, area], AUC[7:14, area])[0])\n",
    "        pvals.append(ttest_rel(AUC[0:7, area], AUC[7:14, area])[1])\n",
    "        \n",
    "        ZDHHC9_mean.append(np.mean(AUC[7:14, area]))\n",
    "        ZDHHC9_SE.append(sem(AUC[7:14, area]))\n",
    "        ZDHHC9_W.append(shapiro(AUC[7:14, area])[0])\n",
    "        ZDHHC9_p.append(shapiro(AUC[7:14, area])[1])\n",
    "        \n",
    "        control_mean.append(np.mean(AUC[0:7, area]))\n",
    "        control_SE.append(sem(AUC[0:7, area]))\n",
    "        control_W.append(shapiro(AUC[0:7, area])[0])\n",
    "        control_p.append(shapiro(AUC[0:7, area])[1])\n",
    "\n",
    "    if np.isnan(pvals).any():\n",
    "        pvals[np.where(np.isnan(pvals) == True)[0]] = 1\n",
    "    corrected_pvals = multipletests(pvals, alpha=0.05, method='fdr_bh')[1]\n",
    "    \n",
    "    np.savetxt(outfolder + '/regional_comparison/' +  metric + '_p.txt', pvals)\n",
    "    np.savetxt(outfolder + '/regional_comparison/' +  metric + '_t.txt', tvals)\n",
    "    np.savetxt(outfolder + '/regional_comparison/' +  metric + '_pcorrected.txt', corrected_pvals)\n",
    "    \n",
    "    np.savetxt(outfolder + '/regional_comparison/' + metric + '_ZDHHC9_mean.txt', ZDHHC9_mean)\n",
    "    np.savetxt(outfolder + '/regional_comparison/' + metric + '_ZDHHC9_SE.txt', ZDHHC9_SE)\n",
    "    np.savetxt(outfolder + '/regional_comparison/' + metric + '_ZDHHC9_W.txt', ZDHHC9_W)\n",
    "    np.savetxt(outfolder + '/regional_comparison/' + metric + '_ZDHHC9_p.txt', ZDHHC9_p)\n",
    "    \n",
    "    np.savetxt(outfolder + '/regional_comparison/' + metric + '_control_mean.txt', control_mean)\n",
    "    np.savetxt(outfolder + '/regional_comparison/' + metric + '_control_SE.txt', control_SE)\n",
    "    np.savetxt(outfolder + '/regional_comparison/' + metric + '_control_W.txt', control_W)\n",
    "    np.savetxt(outfolder + '/regional_comparison/' + metric + '_control_p.txt', control_p)"
   ]
  },
  {
   "cell_type": "code",
   "execution_count": 162,
   "metadata": {
    "collapsed": false,
    "scrolled": true
   },
   "outputs": [
    {
     "name": "stdout",
     "output_type": "stream",
     "text": [
      "\\begin{tabular}{lrrrrrrrrrrr}\n",
      "\\toprule\n",
      "                  label &  ZDHHC9\\_mean &  ZDHHC9\\_SE &  ZDHHC9\\_W &  ZDHHC9\\_p &  control\\_mean &  control\\_SE &  control\\_W &  control\\_p &  t-value &  p-value &  corrected\\_p \\\\\n",
      "\\midrule\n",
      "           Left-Caudate &        26.71 &      3.220 &      0.87 &     0.193 &         44.57 &       2.861 &       0.88 &      0.241 &     4.14 &    0.006 &        0.031 \\\\\n",
      "          Right-Caudate &        19.29 &      2.661 &      0.83 &     0.088 &         33.86 &       2.586 &       0.92 &      0.472 &     4.85 &    0.003 &        0.020 \\\\\n",
      "          Right-Putamen &        17.71 &      4.927 &      0.91 &     0.392 &         36.86 &       5.938 &       0.92 &      0.493 &     4.34 &    0.005 &        0.028 \\\\\n",
      "    lh-inferiortemporal &        14.29 &      2.466 &      0.90 &     0.336 &         28.57 &       1.850 &       0.86 &      0.156 &     4.33 &    0.005 &        0.028 \\\\\n",
      " lh-medialorbitofrontal &        23.43 &      1.412 &      0.96 &     0.800 &         38.00 &       2.837 &       0.91 &      0.405 &     3.83 &    0.009 &        0.035 \\\\\n",
      "      lh-middletemporal &        10.71 &      1.248 &      0.86 &     0.157 &         18.71 &       1.267 &       0.87 &      0.195 &     4.00 &    0.007 &        0.034 \\\\\n",
      "     lh-parsopercularis &        11.43 &      2.369 &      0.92 &     0.499 &         22.14 &       1.752 &       0.90 &      0.331 &     5.16 &    0.002 &        0.018 \\\\\n",
      "       lh-pericalcarine &        22.00 &      2.000 &      0.82 &     0.070 &         36.14 &       2.198 &       0.97 &      0.913 &     3.87 &    0.008 &        0.035 \\\\\n",
      "          lh-precentral &        60.86 &      4.803 &      0.95 &     0.723 &        107.43 &       4.064 &       0.83 &      0.078 &     7.36 &    0.000 &        0.008 \\\\\n",
      "     lh-superiorfrontal &        76.29 &      5.402 &      0.86 &     0.140 &        135.71 &       6.643 &       0.91 &      0.425 &     8.55 &    0.000 &        0.006 \\\\\n",
      "    lh-superiorparietal &        50.14 &      5.049 &      0.83 &     0.079 &         85.29 &       5.126 &       0.83 &      0.088 &     5.15 &    0.002 &        0.018 \\\\\n",
      "    lh-superiortemporal &        50.57 &      2.125 &      0.95 &     0.728 &         65.29 &       2.222 &       0.93 &      0.569 &     4.39 &    0.005 &        0.028 \\\\\n",
      "             rh-lingual &        13.43 &      2.742 &      0.96 &     0.819 &         34.86 &       3.453 &       0.91 &      0.366 &     6.51 &    0.001 &        0.009 \\\\\n",
      "      rh-middletemporal &        22.00 &      2.370 &      0.93 &     0.525 &         39.14 &       4.636 &       0.96 &      0.800 &     3.75 &    0.010 &        0.035 \\\\\n",
      "     rh-parahippocampal &         7.43 &      1.232 &      0.88 &     0.249 &         20.43 &       1.395 &       0.87 &      0.205 &     7.17 &    0.000 &        0.008 \\\\\n",
      "       rh-parsorbitalis &         7.29 &      0.837 &      0.93 &     0.555 &         13.71 &       1.822 &       0.83 &      0.089 &     3.72 &    0.010 &        0.035 \\\\\n",
      "           rh-precuneus &        54.00 &      3.748 &      0.95 &     0.735 &         98.86 &       6.296 &       0.91 &      0.423 &     9.40 &    0.000 &        0.006 \\\\\n",
      "    rh-superiorparietal &        62.71 &      5.317 &      0.97 &     0.923 &        125.57 &       5.559 &       0.86 &      0.151 &     6.93 &    0.000 &        0.008 \\\\\n",
      "    rh-superiortemporal &        40.57 &      4.418 &      0.82 &     0.063 &         71.29 &       2.917 &       0.96 &      0.844 &     5.31 &    0.002 &        0.018 \\\\\n",
      "\\bottomrule\n",
      "\\end{tabular}\n",
      "\n",
      "\\begin{tabular}{lrrrrrrrrrrr}\n",
      "\\toprule\n",
      "                       label &  ZDHHC9\\_mean &  ZDHHC9\\_SE &  ZDHHC9\\_W &  ZDHHC9\\_p &  control\\_mean &  control\\_SE &  control\\_W &  control\\_p &  t-value &  p-value &  corrected\\_p \\\\\n",
      "\\midrule\n",
      "                  Brain-Stem &       117.17 &      5.576 &      0.94 &     0.594 &        144.22 &       5.829 &       0.91 &      0.401 &     4.37 &    0.005 &        0.018 \\\\\n",
      "               Right-Caudate &         9.20 &      1.258 &      0.89 &     0.262 &         17.23 &       1.552 &       0.97 &      0.920 &     4.43 &    0.004 &        0.018 \\\\\n",
      "               Right-Putamen &         7.09 &      2.028 &      0.90 &     0.336 &         16.58 &       3.006 &       0.95 &      0.717 &     4.21 &    0.006 &        0.020 \\\\\n",
      "      lh-caudalmiddlefrontal &         9.15 &      0.583 &      0.97 &     0.910 &         13.81 &       1.210 &       0.99 &      0.989 &     3.48 &    0.013 &        0.035 \\\\\n",
      "                 lh-fusiform &        14.26 &      2.449 &      0.92 &     0.495 &         23.41 &       1.717 &       0.94 &      0.626 &     3.39 &    0.015 &        0.037 \\\\\n",
      "         lh-inferiortemporal &         6.38 &      1.339 &      0.90 &     0.341 &         14.66 &       0.787 &       0.97 &      0.925 &     5.38 &    0.002 &        0.011 \\\\\n",
      "         lh-isthmuscingulate &         5.23 &      1.205 &      0.96 &     0.855 &         14.28 &       1.174 &       0.92 &      0.502 &     4.84 &    0.003 &        0.014 \\\\\n",
      "                  lh-lingual &         8.22 &      0.383 &      0.87 &     0.175 &         13.08 &       0.790 &       0.91 &      0.368 &     6.28 &    0.001 &        0.008 \\\\\n",
      "      lh-medialorbitofrontal &         8.76 &      0.465 &      0.91 &     0.406 &         17.92 &       2.140 &       0.86 &      0.139 &     3.68 &    0.010 &        0.031 \\\\\n",
      "           lh-middletemporal &         4.72 &      0.576 &      0.81 &     0.051 &          9.90 &       0.613 &       0.85 &      0.121 &     5.40 &    0.002 &        0.011 \\\\\n",
      "          lh-parsopercularis &         5.17 &      1.095 &      0.94 &     0.632 &         10.51 &       1.149 &       0.92 &      0.482 &     4.69 &    0.003 &        0.015 \\\\\n",
      "            lh-pericalcarine &        10.18 &      1.085 &      0.82 &     0.058 &         20.07 &       1.291 &       0.94 &      0.618 &     4.99 &    0.002 &        0.014 \\\\\n",
      "               lh-precentral &        30.02 &      2.804 &      0.93 &     0.515 &         57.94 &       2.438 &       0.86 &      0.138 &     9.04 &    0.000 &        0.003 \\\\\n",
      " lh-rostralanteriorcingulate &         6.98 &      1.126 &      0.93 &     0.531 &         15.70 &       1.952 &       0.92 &      0.466 &     4.13 &    0.006 &        0.021 \\\\\n",
      "          lh-superiorfrontal &        36.07 &      3.302 &      0.93 &     0.576 &         70.83 &       3.858 &       0.98 &      0.939 &     9.98 &    0.000 &        0.002 \\\\\n",
      "         lh-superiortemporal &        22.68 &      0.827 &      0.92 &     0.489 &         33.89 &       1.677 &       0.87 &      0.195 &     4.87 &    0.003 &        0.014 \\\\\n",
      "                  rh-lingual &         5.38 &      1.233 &      0.97 &     0.932 &         18.49 &       1.984 &       0.92 &      0.499 &     6.99 &    0.000 &        0.005 \\\\\n",
      "      rh-medialorbitofrontal &         5.76 &      0.739 &      0.93 &     0.561 &         11.10 &       0.872 &       0.99 &      0.990 &     4.39 &    0.005 &        0.018 \\\\\n",
      "           rh-middletemporal &         8.15 &      0.933 &      0.91 &     0.364 &         19.10 &       2.706 &       0.98 &      0.943 &     4.39 &    0.005 &        0.018 \\\\\n",
      "          rh-parahippocampal &         3.27 &      0.613 &      0.84 &     0.100 &         10.74 &       0.728 &       0.89 &      0.288 &     8.32 &    0.000 &        0.003 \\\\\n",
      "              rh-postcentral &         3.99 &      1.483 &      0.86 &     0.168 &         14.66 &       2.370 &       0.93 &      0.528 &     3.36 &    0.015 &        0.037 \\\\\n",
      "                rh-precuneus &        26.26 &      2.302 &      0.94 &     0.637 &         52.14 &       3.591 &       0.96 &      0.807 &    12.42 &    0.000 &        0.001 \\\\\n",
      " rh-rostralanteriorcingulate &         5.60 &      0.727 &      0.95 &     0.761 &         11.87 &       2.223 &       0.82 &      0.069 &     3.17 &    0.019 &        0.044 \\\\\n",
      "         rh-superiorparietal &        29.04 &      2.939 &      0.96 &     0.789 &         64.64 &       3.058 &       0.87 &      0.169 &     7.39 &    0.000 &        0.004 \\\\\n",
      "         rh-superiortemporal &        18.20 &      2.316 &      0.89 &     0.258 &         35.87 &       1.937 &       0.95 &      0.716 &     6.02 &    0.001 &        0.008 \\\\\n",
      "              rh-frontalpole &         2.40 &      0.683 &      0.81 &     0.054 &          4.45 &       0.565 &       0.85 &      0.111 &     3.74 &    0.010 &        0.031 \\\\\n",
      "                   rh-insula &         2.73 &      0.208 &      0.83 &     0.077 &          5.68 &       0.951 &       0.88 &      0.214 &     3.13 &    0.020 &        0.044 \\\\\n",
      "\\bottomrule\n",
      "\\end{tabular}\n",
      "\n",
      "\\begin{tabular}{lrrrrrrrrrrr}\n",
      "\\toprule\n",
      "               label &  ZDHHC9\\_mean &  ZDHHC9\\_SE &  ZDHHC9\\_W &  ZDHHC9\\_p &  control\\_mean &  control\\_SE &  control\\_W &  control\\_p &  t-value &  p-value &  corrected\\_p \\\\\n",
      "\\midrule\n",
      " lh-isthmuscingulate &         1.07 &      0.433 &      0.84 &     0.098 &          3.62 &       0.287 &       0.90 &      0.333 &    10.01 &    0.000 &        0.005 \\\\\n",
      "  lh-parsopercularis &         0.75 &      0.157 &      0.90 &     0.341 &          1.81 &       0.162 &       0.91 &      0.409 &     6.39 &    0.001 &        0.027 \\\\\n",
      "\\bottomrule\n",
      "\\end{tabular}\n",
      "\n",
      "\\begin{tabular}{lrrrrrrrrrrr}\n",
      "\\toprule\n",
      "                   label &  ZDHHC9\\_mean &  ZDHHC9\\_SE &  ZDHHC9\\_W &  ZDHHC9\\_p &  control\\_mean &  control\\_SE &  control\\_W &  control\\_p &  t-value &  p-value &  corrected\\_p \\\\\n",
      "\\midrule\n",
      "  rh-caudalmiddlefrontal &        76.81 &      5.653 &      0.90 &     0.345 &        120.94 &       4.369 &       0.91 &      0.401 &    10.00 &    0.000 &        0.005 \\\\\n",
      " rh-rostralmiddlefrontal &        83.09 &      4.541 &      0.92 &     0.504 &        124.14 &       6.102 &       0.95 &      0.725 &     6.56 &    0.001 &        0.017 \\\\\n",
      "\\bottomrule\n",
      "\\end{tabular}\n",
      "\n"
     ]
    }
   ],
   "source": [
    "labels = pd.read_csv('/home/jb07/joe_python/GitHub/ZDHHC9_connectome/DK_labels.txt', header=None)[0].values\n",
    "\n",
    "for metric in ['node_degree', 'node_strength', 'clustering_coefficient', 'local_efficiency']:\n",
    "    \n",
    "    # Loading all values\n",
    "    ZDHHC9_mean = np.loadtxt(outfolder + '/regional_comparison/' + metric + '_ZDHHC9_mean.txt')\n",
    "    ZDHHC9_SE = np.loadtxt(outfolder + '/regional_comparison/' + metric + '_ZDHHC9_SE.txt')\n",
    "    ZDHHC9_W = np.loadtxt(outfolder + '/regional_comparison/' + metric + '_ZDHHC9_W.txt')\n",
    "    ZDHHC9_p = np.loadtxt(outfolder + '/regional_comparison/' + metric + '_ZDHHC9_p.txt')\n",
    "\n",
    "    control_mean = np.loadtxt(outfolder + '/regional_comparison/' + metric + '_control_mean.txt')\n",
    "    control_SE = np.loadtxt(outfolder + '/regional_comparison/' + metric + '_control_SE.txt')\n",
    "    control_W = np.loadtxt(outfolder + '/regional_comparison/' + metric + '_control_W.txt')\n",
    "    control_p = np.loadtxt(outfolder + '/regional_comparison/' + metric + '_control_p.txt')\n",
    "    \n",
    "    pvals = np.loadtxt(outfolder + '/regional_comparison/' + metric + '_p.txt')\n",
    "    tvals = np.loadtxt(outfolder + '/regional_comparison/' + metric + '_t.txt')\n",
    "    corrected_pvals = np.loadtxt(outfolder + '/regional_comparison/' + metric + '_pcorrected.txt')\n",
    "    \n",
    "    significant_regions = np.where(corrected_pvals < 0.05)[0]\n",
    "    normal_regions = np.where((ZDHHC9_p > 0.05) & (control_p > 0.05))[0]\n",
    "    d = []\n",
    "    \n",
    "    # Collect the results for regions that survive correction for multiple comparisons\n",
    "    for significant_region in significant_regions:\n",
    "        if significant_region in normal_regions:\n",
    "            d.append({'label': labels[significant_region],\n",
    "                      'ZDHHC9_mean': round(ZDHHC9_mean[significant_region], 2),\n",
    "                      'ZDHHC9_SE': round(ZDHHC9_SE[significant_region], 3),\n",
    "                      'ZDHHC9_W': round(ZDHHC9_W[significant_region], 2),\n",
    "                      'ZDHHC9_p': round(ZDHHC9_p[significant_region], 3),\n",
    "                      'control_mean': round(control_mean[significant_region], 2),\n",
    "                      'control_SE': round(control_SE[significant_region], 3),\n",
    "                      'control_W': round(control_W[significant_region], 2),\n",
    "                      'control_p': round(control_p[significant_region], 3),\n",
    "                      't-value': round(tvals[significant_region], 2),\n",
    "                      'p-value': round(pvals[significant_region], 3),\n",
    "                      'corrected_p': round(corrected_pvals[significant_region], 3)\n",
    "                      })\n",
    "    \n",
    "    # Produce a latex table with the results\n",
    "    print(pd.DataFrame(d)[['label', 'ZDHHC9_mean', 'ZDHHC9_SE', 'ZDHHC9_W', 'ZDHHC9_p', 'control_mean', 'control_SE', 'control_W', 'control_p', 't-value', 'p-value', 'corrected_p']].to_latex(index=False))"
   ]
  },
  {
   "cell_type": "markdown",
   "metadata": {},
   "source": [
    "## Correlation between gene expression and regional graph metrics"
   ]
  },
  {
   "cell_type": "code",
   "execution_count": 143,
   "metadata": {
    "collapsed": false
   },
   "outputs": [
    {
     "name": "stdout",
     "output_type": "stream",
     "text": [
      "              graph_metric    gene   control    ZDHHC9\n",
      "0              node_degree    FMR1  1.000000  1.000000\n",
      "1              node_degree   GAPDH  1.000000  1.000000\n",
      "2              node_degree  GRIN2A  1.000000  1.000000\n",
      "3              node_degree   FOXP2  1.000000  1.000000\n",
      "4              node_degree  ZDHHC9  1.000000  1.000000\n",
      "5            node_strength    FMR1  1.000000  1.000000\n",
      "6            node_strength   GAPDH  1.000000  1.000000\n",
      "7            node_strength  GRIN2A  1.000000  1.000000\n",
      "8            node_strength   FOXP2  1.000000  1.000000\n",
      "9            node_strength  ZDHHC9  1.000000  1.000000\n",
      "10        local_efficiency    FMR1  1.000000  1.000000\n",
      "11        local_efficiency   GAPDH  1.000000  1.000000\n",
      "12        local_efficiency  GRIN2A  1.000000  1.000000\n",
      "13        local_efficiency   FOXP2  1.000000  1.000000\n",
      "14        local_efficiency  ZDHHC9  1.000000  0.439246\n",
      "15  clustering_coefficient    FMR1  1.000000  0.620279\n",
      "16  clustering_coefficient   GAPDH  1.000000  1.000000\n",
      "17  clustering_coefficient  GRIN2A  1.000000  1.000000\n",
      "18  clustering_coefficient   FOXP2  1.000000  1.000000\n",
      "19  clustering_coefficient  ZDHHC9  0.444018  0.003820\n"
     ]
    }
   ],
   "source": [
    "expression_folder = '/home/jb07/joe_python/GitHub/ZDHHC9_connectome/expression_data/'\n",
    "metrics = ['node_degree', 'node_strength', 'local_efficiency', 'clustering_coefficient']\n",
    "genes = ['FMR1', 'GAPDH', 'GRIN2A', 'FOXP2', 'ZDHHC9']\n",
    "\n",
    "control_pvals = list()\n",
    "ZDHHC9_pvals = list()\n",
    "\n",
    "for metric in metrics:\n",
    "    df = pd.DataFrame()\n",
    "    df['ZDHHC9Mean'] = np.loadtxt(outfolder + '/regional_comparison/' + metric + '_ZDHHC9_mean.txt')\n",
    "    df['controlMean'] = np.loadtxt(outfolder + '/regional_comparison/' + metric + '_control_mean.txt')\n",
    "    df.index = pd.read_csv('/home/jb07/joe_python/GitHub/ZDHHC9_connectome/DK_labels.txt', header=None)[0].values\n",
    "\n",
    "    for gene in genes:\n",
    "        gene_df = pd.read_csv(expression_folder + gene + '_expression_lh.csv').append(pd.read_csv(expression_folder + gene + '_expression_rh.csv'))\n",
    "        gene_df.index = ['-'.join(label.split('-')[1:]) for label in gene_df.index]\n",
    "        gene_df = gene_df[['normalizedExpression']]\n",
    "        gene_df.columns = [gene]\n",
    "        df = df.merge(gene_df, left_index=True, right_index=True)\n",
    "        control_pvals.append(ols('controlMean ~ ' + gene, data=df).fit().pvalues[gene])\n",
    "        ZDHHC9_pvals.append(ols('ZDHHC9Mean ~ ' + gene, data=df).fit().pvalues[gene])\n",
    "\n",
    "results_df = pd.DataFrame()\n",
    "results_df['graph_metric'] = np.hstack([np.repeat(metric, 5) for metric in metrics]).tolist()\n",
    "results_df['gene'] = np.hstack(np.tile(genes, 4)).tolist()\n",
    "results_df['control'] = multipletests(np.asarray(control_pvals), alpha=0.05, method='bonferroni')[1]\n",
    "results_df['ZDHHC9'] = multipletests(np.asarray(ZDHHC9_pvals), alpha=0.05, method='bonferroni')[1]\n",
    "print results_df"
   ]
  },
  {
   "cell_type": "markdown",
   "metadata": {},
   "source": [
    "Note that these values have to be multiplied by two to account for the two group"
   ]
  },
  {
   "cell_type": "code",
   "execution_count": 442,
   "metadata": {
    "collapsed": false
   },
   "outputs": [
    {
     "data": {
      "image/png": "[encoded data removed]",
      "text/plain": [
       "<matplotlib.figure.Figure at 0x7f837549aed0>"
      ]
     },
     "metadata": {},
     "output_type": "display_data"
    }
   ],
   "source": [
    "fig = plt.figure(figsize=(double_column/2, double_column/2), dpi=600, tight_layout=True)\n",
    "\n",
    "sns.regplot(x='ZDHHC9',\n",
    "            y='ZDHHC9Mean',\n",
    "            color='#D55E00',\n",
    "            robust=True,\n",
    "            data=df)\n",
    "\n",
    "sns.regplot(x='ZDHHC9',\n",
    "            y='controlMean',\n",
    "            color='#56B4E9',\n",
    "            robust=True,\n",
    "            data=df)\n",
    "\n",
    "plt.legend([r'\\textit{ZDDH9}', 'control'])\n",
    "plt.ylabel('clustering coefficient')\n",
    "plt.xlabel(r'\\textit{ZDHHC9} expression')\n",
    "\n",
    "plt.savefig(outfolder + 'clustcoef_ZDHHC9expr.png', dpi=600)"
   ]
  },
  {
   "cell_type": "markdown",
   "metadata": {},
   "source": [
    "### Analysis of influential data points"
   ]
  },
  {
   "cell_type": "code",
   "execution_count": 489,
   "metadata": {
    "collapsed": false
   },
   "outputs": [],
   "source": [
    "expression_folder = '/home/jb07/joe_python/GitHub/ZDHHC9_connectome/expression_data/'\n",
    "metric = 'clustering_coefficient'\n",
    "gene = 'ZDHHC9'\n",
    "\n",
    "df = pd.DataFrame()\n",
    "df['ZDHHC9Mean'] = np.loadtxt(outfolder + '/regional_comparison/' + metric + '_ZDHHC9_mean.txt')\n",
    "df['controlMean'] = np.loadtxt(outfolder + '/regional_comparison/' + metric + '_control_mean.txt')\n",
    "df.index = pd.read_csv('/home/jb07/joe_python/GitHub/ZDHHC9_connectome/DK_labels.txt', header=None)[0].values\n",
    "\n",
    "gene_df = pd.read_csv(expression_folder + gene + '_expression_lh.csv').append(pd.read_csv(expression_folder + gene + '_expression_rh.csv'))\n",
    "gene_df.index = ['-'.join(label.split('-')[1:]) for label in gene_df.index]\n",
    "gene_df = gene_df[['normalizedExpression']]\n",
    "gene_df.columns = [gene]\n",
    "df = df.merge(gene_df, left_index=True, right_index=True)\n",
    "control_results = ols('controlMean ~ ' + gene, data=df).fit()\n",
    "ZDHHC9_results = ols('ZDHHC9Mean ~ ' + gene, data=df).fit()"
   ]
  },
  {
   "cell_type": "code",
   "execution_count": 490,
   "metadata": {
    "collapsed": false
   },
   "outputs": [
    {
     "data": {
      "text/plain": [
       "<Container object of 3 artists>"
      ]
     },
     "execution_count": 490,
     "metadata": {},
     "output_type": "execute_result"
    },
    {
     "data": {
      "image/png": "[encoded data removed]",
      "text/plain": [
       "<matplotlib.figure.Figure at 0x7f83748f5f10>"
      ]
     },
     "metadata": {},
     "output_type": "display_data"
    }
   ],
   "source": [
    "(c, p) = ZDHHC9_results.get_influence().cooks_distance\n",
    "plt.stem(np.arange(len(c)), c, markerfmt=\",\")"
   ]
  },
  {
   "cell_type": "markdown",
   "metadata": {},
   "source": [
    "Influential data point:"
   ]
  },
  {
   "cell_type": "code",
   "execution_count": 491,
   "metadata": {
    "collapsed": false,
    "scrolled": true
   },
   "outputs": [
    {
     "name": "stdout",
     "output_type": "stream",
     "text": [
      "Index([u'lh-bankssts', u'lh-caudalanteriorcingulate', u'rh-bankssts'], dtype='object')\n",
      "[ 0.13630182  0.10965772  0.17549007]\n"
     ]
    }
   ],
   "source": [
    "print(df.index[np.where(c > 4./(68-2))[0]])\n",
    "print(c[np.where(c > 4./(68-2))[0]])"
   ]
  },
  {
   "cell_type": "code",
   "execution_count": 495,
   "metadata": {
    "collapsed": false
   },
   "outputs": [
    {
     "data": {
      "text/plain": [
       "0.001254678194023045"
      ]
     },
     "execution_count": 495,
     "metadata": {},
     "output_type": "execute_result"
    }
   ],
   "source": [
    "df = df.drop(df.index[np.where(c > 4./(68-2))[0]])\n",
    "ols('ZDHHC9Mean ~ ' + gene, data=df).fit().pvalues['ZDHHC9']*40"
   ]
  },
  {
   "cell_type": "code",
   "execution_count": null,
   "metadata": {
    "collapsed": true
   },
   "outputs": [],
   "source": []
  }
 ],
 "metadata": {
  "kernelspec": {
   "display_name": "Python 2",
   "language": "python",
   "name": "python2"
  },
  "language_info": {
   "codemirror_mode": {
    "name": "ipython",
    "version": 2
   },
   "file_extension": ".py",
   "mimetype": "text/x-python",
   "name": "python",
   "nbconvert_exporter": "python",
   "pygments_lexer": "ipython2",
   "version": "2.7.12"
  }
 },
 "nbformat": 4,
 "nbformat_minor": 0
}
